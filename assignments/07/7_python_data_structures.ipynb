{
 "cells": [
  {
   "cell_type": "markdown",
   "metadata": {},
   "source": [
    "# DIS08 / OR92 Data Modeling: Python - Data structures"
   ]
  },
  {
   "cell_type": "markdown",
   "metadata": {},
   "source": [
    "# Introduction to Data Structures\n",
    "\n",
    "---\n",
    "\n",
    "**Note:** Some examples and assignments in this notebook are taken from the following sources.\n",
    "- https://docs.python.org/3/tutorial/datastructures.html\n",
    "- https://realpython.com/python-data-structures/\n",
    "- https://www.geeksforgeeks.org/python-data-structures/\n",
    "- https://automatetheboringstuff.com/\n",
    "\n",
    "\n",
    "---\n",
    "\n",
    "## What are data structures?\n",
    "Data structures are ways of organizing and storing data to enable efficient access and modification. They provide a means to manage large amounts of data and are fundamental to designing efficient algorithms. \n",
    "\n",
    "In Python, data structures can be broadly categorized into built-in types (like lists, tuples, sets, and dictionaries) and custom types created using classes.\n",
    "\n",
    "## Importance of choosing the right data structure\n",
    "Selecting the appropriate data structure is crucial for optimizing the performance of a program. The choice affects:\n",
    "- **Memory usage:** Some data structures require more memory than others.\n",
    "- **Speed of operations:** Different structures offer varying performance for insertion, deletion, searching, and updating operations.\n",
    "- **Code clarity:** The right structure can make code easier to read and maintain.\n",
    "\n",
    "## Built-in vs. custom data structures\n",
    "- **Built-in data structures** are provided by Python and include lists, tuples, sets, and dictionaries. They are highly optimized and easy to use.\n",
    "- **Custom data structures** can be implemented using classes to meet specific needs, such as stacks, queues, linked lists, trees, and graphs.\n",
    "\n",
    "Choosing between built-in and custom data structures depends on the problem requirements and the trade-offs involved.\n",
    "\n"
   ]
  },
  {
   "cell_type": "markdown",
   "metadata": {},
   "source": [
    "## Lists\n",
    "\n",
    "### Characteristics\n",
    "- **Ordered**: The elements in a list have a specific order, which is preserved.\n",
    "- **Mutable**: Lists can be modified after their creation (e.g., adding, removing, or changing elements).\n",
    "- **Allows Duplicates**: A list can contain multiple instances of the same value."
   ]
  },
  {
   "cell_type": "markdown",
   "metadata": {},
   "source": [
    "### Common Operations\n",
    "\n",
    "#### Indexing\n",
    "\n",
    "Access elements by their position in the list (starting at index 0)."
   ]
  },
  {
   "cell_type": "code",
   "execution_count": 1,
   "metadata": {},
   "outputs": [
    {
     "name": "stdout",
     "output_type": "stream",
     "text": [
      "[1, 2, 3, 4, 2, 5]\n",
      "First element: 1, Last element: 5\n"
     ]
    }
   ],
   "source": [
    "# Creating a list with some duplicate values\n",
    "my_list = [1, 2, 3, 4, 2, 5]\n",
    "print(my_list)  \n",
    "\n",
    "# Accessing elements\n",
    "first_element = my_list[0]   # First element\n",
    "last_element = my_list[-1]   # Last element\n",
    "\n",
    "print(f\"First element: {first_element}, Last element: {last_element}\")"
   ]
  },
  {
   "cell_type": "markdown",
   "metadata": {},
   "source": [
    "#### Slicing\n",
    "\n",
    "Retrieve a subset of the list using slicing."
   ]
  },
  {
   "cell_type": "code",
   "execution_count": 3,
   "metadata": {},
   "outputs": [
    {
     "name": "stdout",
     "output_type": "stream",
     "text": [
      "[2, 3, 4]\n"
     ]
    }
   ],
   "source": [
    "# Slicing the list\n",
    "sub_list = my_list[1:4]  # Elements from index 1 to 3\n",
    "print(sub_list) "
   ]
  },
  {
   "cell_type": "markdown",
   "metadata": {},
   "source": [
    "#### Appending\n",
    "\n",
    "Add an element to the end of the list using append()."
   ]
  },
  {
   "cell_type": "code",
   "execution_count": 5,
   "metadata": {},
   "outputs": [
    {
     "name": "stdout",
     "output_type": "stream",
     "text": [
      "[1, 2, 3, 4, 2, 5, 6]\n"
     ]
    }
   ],
   "source": [
    "# Appending a new element\n",
    "my_list.append(6)\n",
    "print(my_list)  "
   ]
  },
  {
   "cell_type": "markdown",
   "metadata": {},
   "source": [
    "#### Inserting\n",
    "\n",
    "Insert an element at a specific position using insert()."
   ]
  },
  {
   "cell_type": "code",
   "execution_count": 7,
   "metadata": {},
   "outputs": [
    {
     "name": "stdout",
     "output_type": "stream",
     "text": [
      "[1, 2, 99, 3, 4, 2, 5, 6]\n"
     ]
    }
   ],
   "source": [
    "# Inserting an element at index 2\n",
    "my_list.insert(2, 99)\n",
    "print(my_list)  "
   ]
  },
  {
   "cell_type": "markdown",
   "metadata": {},
   "source": [
    "#### Counting, sorting, reversing, etc."
   ]
  },
  {
   "cell_type": "code",
   "execution_count": 9,
   "metadata": {},
   "outputs": [
    {
     "data": {
      "text/plain": [
       "['orange', 'apple', 'pear', 'banana', 'kiwi', 'apple', 'banana']"
      ]
     },
     "execution_count": 9,
     "metadata": {},
     "output_type": "execute_result"
    }
   ],
   "source": [
    "fruits = ['orange', 'apple', 'pear', 'banana', 'kiwi', 'apple', 'banana']\n",
    "fruits"
   ]
  },
  {
   "cell_type": "code",
   "execution_count": 11,
   "metadata": {},
   "outputs": [
    {
     "data": {
      "text/plain": [
       "2"
      ]
     },
     "execution_count": 11,
     "metadata": {},
     "output_type": "execute_result"
    }
   ],
   "source": [
    "fruits.count('apple')"
   ]
  },
  {
   "cell_type": "code",
   "execution_count": 13,
   "metadata": {},
   "outputs": [
    {
     "data": {
      "text/plain": [
       "3"
      ]
     },
     "execution_count": 13,
     "metadata": {},
     "output_type": "execute_result"
    }
   ],
   "source": [
    "fruits.index('banana')"
   ]
  },
  {
   "cell_type": "code",
   "execution_count": 15,
   "metadata": {},
   "outputs": [
    {
     "data": {
      "text/plain": [
       "6"
      ]
     },
     "execution_count": 15,
     "metadata": {},
     "output_type": "execute_result"
    }
   ],
   "source": [
    "fruits.index('banana', 4)  # Find next banana starting at position 4"
   ]
  },
  {
   "cell_type": "code",
   "execution_count": 17,
   "metadata": {},
   "outputs": [
    {
     "data": {
      "text/plain": [
       "['banana', 'apple', 'kiwi', 'banana', 'pear', 'apple', 'orange']"
      ]
     },
     "execution_count": 17,
     "metadata": {},
     "output_type": "execute_result"
    }
   ],
   "source": [
    "fruits.reverse()\n",
    "fruits"
   ]
  },
  {
   "cell_type": "markdown",
   "metadata": {},
   "source": [
    "#### Using Lists as Stacks\n",
    "\n",
    "A stack is a linear data structure that follows the Last In, First Out (LIFO) principle, meaning the last element added to the stack is the first one to be removed. It is commonly used for tasks like managing function calls, undo operations, and evaluating expressions.\n",
    "\n",
    "In Python, a stack can be implemented using a list, where append() adds an item to the top and pop() removes the topmost item. Alternatively, the deque (from the collections module) is preferred for better performance, as it provides efficient O(1) operations for both appending and popping.\n",
    "\n",
    "**See also:** https://en.wikipedia.org/wiki/Stack_(abstract_data_type)"
   ]
  },
  {
   "cell_type": "code",
   "execution_count": 20,
   "metadata": {},
   "outputs": [
    {
     "data": {
      "text/plain": [
       "[3, 4, 5]"
      ]
     },
     "execution_count": 20,
     "metadata": {},
     "output_type": "execute_result"
    }
   ],
   "source": [
    "stack = [3, 4, 5]\n",
    "stack"
   ]
  },
  {
   "cell_type": "code",
   "execution_count": 22,
   "metadata": {},
   "outputs": [
    {
     "data": {
      "text/plain": [
       "[3, 4, 5, 6]"
      ]
     },
     "execution_count": 22,
     "metadata": {},
     "output_type": "execute_result"
    }
   ],
   "source": [
    "stack.append(6)\n",
    "stack"
   ]
  },
  {
   "cell_type": "code",
   "execution_count": 24,
   "metadata": {},
   "outputs": [
    {
     "data": {
      "text/plain": [
       "[3, 4, 5, 6, 7]"
      ]
     },
     "execution_count": 24,
     "metadata": {},
     "output_type": "execute_result"
    }
   ],
   "source": [
    "stack.append(7)\n",
    "stack"
   ]
  },
  {
   "cell_type": "code",
   "execution_count": 26,
   "metadata": {},
   "outputs": [
    {
     "data": {
      "text/plain": [
       "7"
      ]
     },
     "execution_count": 26,
     "metadata": {},
     "output_type": "execute_result"
    }
   ],
   "source": [
    "stack.pop()"
   ]
  },
  {
   "cell_type": "code",
   "execution_count": 28,
   "metadata": {},
   "outputs": [
    {
     "data": {
      "text/plain": [
       "6"
      ]
     },
     "execution_count": 28,
     "metadata": {},
     "output_type": "execute_result"
    }
   ],
   "source": [
    "stack.pop()"
   ]
  },
  {
   "cell_type": "markdown",
   "metadata": {},
   "source": [
    "#### Using Lists as Queues\n",
    "\n",
    "A queue is a linear data structure that follows the First In, First Out (FIFO) principle, meaning the first element added is the first one to be removed. It is commonly used for tasks like task scheduling, breadth-first search, and managing shared resources.\n",
    "\n",
    "In Python, a queue can be implemented using a list, though it is inefficient for frequent operations due to O(n) complexity when removing the first element. A more efficient approach is to use the deque (from the collections module), which provides O(1) operations for both appending and removing elements from either end. For thread-safe queues, the queue.Queue class from the queue module can be used.\n",
    "\n",
    "**See also:** https://en.wikipedia.org/wiki/Queue_(abstract_data_type)"
   ]
  },
  {
   "cell_type": "code",
   "execution_count": 31,
   "metadata": {},
   "outputs": [
    {
     "data": {
      "text/plain": [
       "deque(['Eric', 'John', 'Michael'])"
      ]
     },
     "execution_count": 31,
     "metadata": {},
     "output_type": "execute_result"
    }
   ],
   "source": [
    "from collections import deque\n",
    "\n",
    "queue = deque([\"Eric\", \"John\", \"Michael\"])\n",
    "queue"
   ]
  },
  {
   "cell_type": "code",
   "execution_count": 33,
   "metadata": {},
   "outputs": [
    {
     "data": {
      "text/plain": [
       "deque(['Eric', 'John', 'Michael', 'Terry'])"
      ]
     },
     "execution_count": 33,
     "metadata": {},
     "output_type": "execute_result"
    }
   ],
   "source": [
    "queue.append(\"Terry\")\n",
    "queue"
   ]
  },
  {
   "cell_type": "code",
   "execution_count": 35,
   "metadata": {},
   "outputs": [
    {
     "data": {
      "text/plain": [
       "deque(['Eric', 'John', 'Michael', 'Terry', 'Graham'])"
      ]
     },
     "execution_count": 35,
     "metadata": {},
     "output_type": "execute_result"
    }
   ],
   "source": [
    "queue.append(\"Graham\")\n",
    "queue"
   ]
  },
  {
   "cell_type": "code",
   "execution_count": 37,
   "metadata": {},
   "outputs": [
    {
     "data": {
      "text/plain": [
       "deque(['John', 'Michael', 'Terry', 'Graham'])"
      ]
     },
     "execution_count": 37,
     "metadata": {},
     "output_type": "execute_result"
    }
   ],
   "source": [
    "queue.popleft()\n",
    "queue"
   ]
  },
  {
   "cell_type": "code",
   "execution_count": 39,
   "metadata": {},
   "outputs": [
    {
     "data": {
      "text/plain": [
       "deque(['Michael', 'Terry', 'Graham'])"
      ]
     },
     "execution_count": 39,
     "metadata": {},
     "output_type": "execute_result"
    }
   ],
   "source": [
    "queue.popleft()\n",
    "queue"
   ]
  },
  {
   "cell_type": "markdown",
   "metadata": {},
   "source": [
    "### List comprehension\n",
    "\n",
    "List comprehension is a concise and elegant way to create and transform lists in Python. It provides a syntactic shortcut for generating new lists by applying an expression to each item in an existing iterable (like a list, range, or string) and optionally filtering elements based on a condition. "
   ]
  },
  {
   "cell_type": "code",
   "execution_count": 42,
   "metadata": {},
   "outputs": [
    {
     "data": {
      "text/plain": [
       "[0, 1, 4, 9, 16, 25, 36, 49, 64, 81]"
      ]
     },
     "execution_count": 42,
     "metadata": {},
     "output_type": "execute_result"
    }
   ],
   "source": [
    "squares = []\n",
    "for x in range(10):\n",
    "    squares.append(x**2)\n",
    "\n",
    "squares"
   ]
  },
  {
   "cell_type": "code",
   "execution_count": 44,
   "metadata": {},
   "outputs": [
    {
     "data": {
      "text/plain": [
       "[0, 1, 4, 9, 16, 25, 36, 49, 64, 81]"
      ]
     },
     "execution_count": 44,
     "metadata": {},
     "output_type": "execute_result"
    }
   ],
   "source": [
    "squares = list(map(lambda x: x**2, range(10)))\n",
    "squares"
   ]
  },
  {
   "cell_type": "code",
   "execution_count": 46,
   "metadata": {},
   "outputs": [
    {
     "data": {
      "text/plain": [
       "[0, 1, 4, 9, 16, 25, 36, 49, 64, 81]"
      ]
     },
     "execution_count": 46,
     "metadata": {},
     "output_type": "execute_result"
    }
   ],
   "source": [
    "squares = [x**2 for x in range(10)]\n",
    "squares"
   ]
  },
  {
   "cell_type": "markdown",
   "metadata": {},
   "source": [
    "## Tuples\n",
    "\n",
    "A tuple is an immutable sequence, meaning its elements cannot be modified after creation. Tuples are defined using parentheses () or simply by separating values with commas. For example, (1, 2, 3) or 1, 2, 3 are tuples. They are commonly used to represent fixed collections of items, like coordinates or function return values. Tuples are efficient and can hold heterogeneous data types, making them ideal for use as keys in dictionaries or when immutability is desired.\n",
    "\n",
    "A tuple consists of a number of values separated by commas, for instance:"
   ]
  },
  {
   "cell_type": "code",
   "execution_count": 49,
   "metadata": {},
   "outputs": [
    {
     "data": {
      "text/plain": [
       "12345"
      ]
     },
     "execution_count": 49,
     "metadata": {},
     "output_type": "execute_result"
    }
   ],
   "source": [
    "t = 12345, 54321, 'hello!'\n",
    "t[0]"
   ]
  },
  {
   "cell_type": "code",
   "execution_count": 51,
   "metadata": {},
   "outputs": [
    {
     "data": {
      "text/plain": [
       "((12345, 54321, 'hello!'), (1, 2, 3, 4, 5))"
      ]
     },
     "execution_count": 51,
     "metadata": {},
     "output_type": "execute_result"
    }
   ],
   "source": [
    "# Tuples may be nested:\n",
    "u = t, (1, 2, 3, 4, 5)\n",
    "u"
   ]
  },
  {
   "cell_type": "code",
   "execution_count": 53,
   "metadata": {},
   "outputs": [
    {
     "ename": "TypeError",
     "evalue": "'tuple' object does not support item assignment",
     "output_type": "error",
     "traceback": [
      "\u001b[1;31m---------------------------------------------------------------------------\u001b[0m",
      "\u001b[1;31mTypeError\u001b[0m                                 Traceback (most recent call last)",
      "Cell \u001b[1;32mIn[53], line 2\u001b[0m\n\u001b[0;32m      1\u001b[0m \u001b[38;5;66;03m# Tuples are immutable:\u001b[39;00m\n\u001b[1;32m----> 2\u001b[0m t[\u001b[38;5;241m0\u001b[39m] \u001b[38;5;241m=\u001b[39m \u001b[38;5;241m88888\u001b[39m\n",
      "\u001b[1;31mTypeError\u001b[0m: 'tuple' object does not support item assignment"
     ]
    }
   ],
   "source": [
    "# Tuples are immutable:\n",
    "t[0] = 88888"
   ]
  },
  {
   "cell_type": "code",
   "execution_count": 55,
   "metadata": {},
   "outputs": [
    {
     "data": {
      "text/plain": [
       "([1, 2, 3], [3, 2, 1])"
      ]
     },
     "execution_count": 55,
     "metadata": {},
     "output_type": "execute_result"
    }
   ],
   "source": [
    "# but they can contain mutable objects:\n",
    "v = ([1, 2, 3], [3, 2, 1])\n",
    "v"
   ]
  },
  {
   "cell_type": "markdown",
   "metadata": {},
   "source": [
    "## Sets\n",
    "\n",
    "A set in Python is an unordered collection of unique, immutable elements, commonly used for operations like membership testing, deduplication, and mathematical set operations (union, intersection, difference, and symmetric difference). Sets are defined using curly braces {} or the set() constructor, e.g., {1, 2, 3} or set([1, 2, 3]). They do not support indexing or slicing because they are unordered, but they are highly efficient for checking membership due to their underlying hash table implementation. Python also provides a frozenset, an immutable version of a set, which can be used as dictionary keys or elements of other sets."
   ]
  },
  {
   "cell_type": "code",
   "execution_count": 58,
   "metadata": {},
   "outputs": [
    {
     "data": {
      "text/plain": [
       "{'apple', 'banana', 'orange', 'pear'}"
      ]
     },
     "execution_count": 58,
     "metadata": {},
     "output_type": "execute_result"
    }
   ],
   "source": [
    "basket = {'apple', 'orange', 'apple', 'pear', 'orange', 'banana'}\n",
    "basket"
   ]
  },
  {
   "cell_type": "code",
   "execution_count": 60,
   "metadata": {},
   "outputs": [],
   "source": [
    "# Demonstrate set operations on unique letters from two words\n",
    "a = set('abracadabra')\n",
    "b = set('alacazam')"
   ]
  },
  {
   "cell_type": "code",
   "execution_count": 62,
   "metadata": {},
   "outputs": [
    {
     "data": {
      "text/plain": [
       "{'a', 'b', 'c', 'd', 'r'}"
      ]
     },
     "execution_count": 62,
     "metadata": {},
     "output_type": "execute_result"
    }
   ],
   "source": [
    "# unique letters in a\n",
    "a                                  "
   ]
  },
  {
   "cell_type": "code",
   "execution_count": 64,
   "metadata": {},
   "outputs": [
    {
     "data": {
      "text/plain": [
       "{'b', 'd', 'r'}"
      ]
     },
     "execution_count": 64,
     "metadata": {},
     "output_type": "execute_result"
    }
   ],
   "source": [
    "# letters in a but not in b\n",
    "a - b                              "
   ]
  },
  {
   "cell_type": "code",
   "execution_count": 66,
   "metadata": {},
   "outputs": [
    {
     "data": {
      "text/plain": [
       "{'a', 'b', 'c', 'd', 'l', 'm', 'r', 'z'}"
      ]
     },
     "execution_count": 66,
     "metadata": {},
     "output_type": "execute_result"
    }
   ],
   "source": [
    "# letters in a or b or both\n",
    "a | b"
   ]
  },
  {
   "cell_type": "code",
   "execution_count": 68,
   "metadata": {},
   "outputs": [
    {
     "data": {
      "text/plain": [
       "{'a', 'c'}"
      ]
     },
     "execution_count": 68,
     "metadata": {},
     "output_type": "execute_result"
    }
   ],
   "source": [
    "# letters in both a and b\n",
    "a & b                              \n"
   ]
  },
  {
   "cell_type": "code",
   "execution_count": 70,
   "metadata": {},
   "outputs": [
    {
     "data": {
      "text/plain": [
       "{'b', 'd', 'l', 'm', 'r', 'z'}"
      ]
     },
     "execution_count": 70,
     "metadata": {},
     "output_type": "execute_result"
    }
   ],
   "source": [
    "# letters in a or b but not both\n",
    "a ^ b                              "
   ]
  },
  {
   "cell_type": "markdown",
   "metadata": {},
   "source": [
    "## Dictionaries\n",
    "\n",
    "A dictionary in Python is an unordered, mutable collection that maps unique keys to values, making it ideal for storing and retrieving data efficiently using key-based lookups. Defined using curly braces {} with key-value pairs separated by colons, e.g., {\"name\": \"Alice\", \"age\": 30}, or created with the dict() constructor, dictionaries allow heterogeneous keys and values, though keys must be immutable (e.g., strings, numbers, or tuples). They support various operations, including adding, updating, and deleting key-value pairs, as well as built-in methods like .get(), .keys(), .values(), and .items() for accessing and manipulating data. Their efficient hash table implementation makes them a cornerstone of Python’s data structures."
   ]
  },
  {
   "cell_type": "code",
   "execution_count": 73,
   "metadata": {},
   "outputs": [
    {
     "data": {
      "text/plain": [
       "{'jack': 4098, 'sape': 4139, 'guido': 4127}"
      ]
     },
     "execution_count": 73,
     "metadata": {},
     "output_type": "execute_result"
    }
   ],
   "source": [
    "tel = {'jack': 4098, 'sape': 4139}\n",
    "tel['guido'] = 4127\n",
    "tel"
   ]
  },
  {
   "cell_type": "code",
   "execution_count": 75,
   "metadata": {},
   "outputs": [
    {
     "data": {
      "text/plain": [
       "4098"
      ]
     },
     "execution_count": 75,
     "metadata": {},
     "output_type": "execute_result"
    }
   ],
   "source": [
    "tel['jack']"
   ]
  },
  {
   "cell_type": "code",
   "execution_count": 77,
   "metadata": {},
   "outputs": [
    {
     "data": {
      "text/plain": [
       "{'jack': 4098, 'guido': 4127}"
      ]
     },
     "execution_count": 77,
     "metadata": {},
     "output_type": "execute_result"
    }
   ],
   "source": [
    "del tel['sape']\n",
    "tel"
   ]
  },
  {
   "cell_type": "code",
   "execution_count": 79,
   "metadata": {},
   "outputs": [
    {
     "data": {
      "text/plain": [
       "{'jack': 4098, 'guido': 4127, 'irv': 4127}"
      ]
     },
     "execution_count": 79,
     "metadata": {},
     "output_type": "execute_result"
    }
   ],
   "source": [
    "tel['irv'] = 4127\n",
    "tel"
   ]
  },
  {
   "cell_type": "code",
   "execution_count": 81,
   "metadata": {},
   "outputs": [
    {
     "data": {
      "text/plain": [
       "['jack', 'guido', 'irv']"
      ]
     },
     "execution_count": 81,
     "metadata": {},
     "output_type": "execute_result"
    }
   ],
   "source": [
    "list(tel)"
   ]
  },
  {
   "cell_type": "code",
   "execution_count": 83,
   "metadata": {},
   "outputs": [
    {
     "data": {
      "text/plain": [
       "['guido', 'irv', 'jack']"
      ]
     },
     "execution_count": 83,
     "metadata": {},
     "output_type": "execute_result"
    }
   ],
   "source": [
    "sorted(tel)"
   ]
  },
  {
   "cell_type": "code",
   "execution_count": 85,
   "metadata": {},
   "outputs": [
    {
     "data": {
      "text/plain": [
       "True"
      ]
     },
     "execution_count": 85,
     "metadata": {},
     "output_type": "execute_result"
    }
   ],
   "source": [
    "'guido' in tel"
   ]
  },
  {
   "cell_type": "code",
   "execution_count": 87,
   "metadata": {},
   "outputs": [
    {
     "data": {
      "text/plain": [
       "False"
      ]
     },
     "execution_count": 87,
     "metadata": {},
     "output_type": "execute_result"
    }
   ],
   "source": [
    "'jack' not in tel"
   ]
  },
  {
   "cell_type": "markdown",
   "metadata": {},
   "source": [
    "## Self-defined classes and basic concepts of object-oriented programming\n",
    "\n",
    "*Let's go to the library!*"
   ]
  },
  {
   "cell_type": "markdown",
   "metadata": {},
   "source": [
    "**Base Class (Encapsulation)**"
   ]
  },
  {
   "cell_type": "code",
   "execution_count": 93,
   "metadata": {},
   "outputs": [],
   "source": [
    "class Book:\n",
    "    def __init__(self, title, author, isbn, copies=1):\n",
    "        self._title = title  # Protected attribute\n",
    "        self._author = author  # Protected attribute\n",
    "        self._isbn = isbn  # Protected attribute\n",
    "        self._copies = copies  # Protected attribute\n",
    "\n",
    "    def display_info(self):\n",
    "        \"\"\"Public method to display book information.\"\"\"\n",
    "        print(f\"Title: {self._title}\")\n",
    "        print(f\"Author: {self._author}\")\n",
    "        print(f\"ISBN: {self._isbn}\")\n",
    "        print(f\"Copies Available: {self._copies}\")\n",
    "\n",
    "    def borrow_book(self):\n",
    "        \"\"\"Public method to borrow a book.\"\"\"\n",
    "        if self._copies > 0:\n",
    "            self._copies -= 1\n",
    "            print(f\"Borrowed '{self._title}'. Remaining copies: {self._copies}\")\n",
    "        else:\n",
    "            print(f\"'{self._title}' is currently unavailable.\")\n",
    "\n",
    "    def return_book(self):\n",
    "        \"\"\"Public method to return a book.\"\"\"\n",
    "        self._copies += 1\n",
    "        print(f\"Returned '{self._title}'. Total copies: {self._copies}\")"
   ]
  },
  {
   "cell_type": "markdown",
   "metadata": {},
   "source": [
    "**Derived Class (Inheritance)**"
   ]
  },
  {
   "cell_type": "code",
   "execution_count": 96,
   "metadata": {},
   "outputs": [],
   "source": [
    "class EBook(Book):\n",
    "    def __init__(self, title, author, isbn, file_size, file_format, copies=1):\n",
    "        super().__init__(title, author, isbn, copies)  # Call the constructor of the base class\n",
    "        self._file_size = file_size  # Specific to EBook\n",
    "        self._file_format = file_format  # Specific to EBook\n",
    "\n",
    "    def display_info(self):\n",
    "        \"\"\"Overriding method to include eBook-specific details.\"\"\"\n",
    "        super().display_info()\n",
    "        print(f\"File Size: {self._file_size}MB\")\n",
    "        print(f\"File Format: {self._file_format}\")"
   ]
  },
  {
   "cell_type": "markdown",
   "metadata": {},
   "source": [
    "**Polymorphism in action**"
   ]
  },
  {
   "cell_type": "code",
   "execution_count": 99,
   "metadata": {},
   "outputs": [],
   "source": [
    "def book_info(book):\n",
    "    \"\"\"Function to demonstrate polymorphism.\"\"\"\n",
    "    book.display_info()"
   ]
  },
  {
   "cell_type": "markdown",
   "metadata": {},
   "source": [
    "**Abstract Class**"
   ]
  },
  {
   "cell_type": "code",
   "execution_count": 102,
   "metadata": {},
   "outputs": [],
   "source": [
    "from abc import ABC, abstractmethod\n",
    "\n",
    "class LibraryMember(ABC):\n",
    "    def __init__(self, name, member_id):\n",
    "        self.name = name\n",
    "        self.member_id = member_id\n",
    "\n",
    "    @abstractmethod\n",
    "    def borrow(self):\n",
    "        pass\n",
    "\n",
    "    @abstractmethod\n",
    "    def return_item(self):\n",
    "        pass"
   ]
  },
  {
   "cell_type": "markdown",
   "metadata": {},
   "source": [
    "**Concrete class inheriting from abstract class**"
   ]
  },
  {
   "cell_type": "code",
   "execution_count": 105,
   "metadata": {},
   "outputs": [],
   "source": [
    "class Student(LibraryMember):\n",
    "    def __init__(self, name, member_id, borrowed_books=None):\n",
    "        super().__init__(name, member_id)\n",
    "        self.borrowed_books = borrowed_books if borrowed_books else []\n",
    "\n",
    "    def borrow(self, book):\n",
    "        \"\"\"Implements borrowing for a student.\"\"\"\n",
    "        if len(self.borrowed_books) < 3:  # Limit students to borrowing 3 books\n",
    "            book.borrow_book()\n",
    "            self.borrowed_books.append(book)\n",
    "        else:\n",
    "            print(f\"{self.name} has already borrowed 3 books!\")\n",
    "\n",
    "    def return_item(self, book):\n",
    "        \"\"\"Implements returning a book.\"\"\"\n",
    "        if book in self.borrowed_books:\n",
    "            book.return_book()\n",
    "            self.borrowed_books.remove(book)\n",
    "        else:\n",
    "            print(f\"{self.name} did not borrow '{book._title}'.\")\n",
    "\n",
    "    def display_borrowed_books(self):\n",
    "        print(f\"{self.name} has borrowed:\")\n",
    "        for book in self.borrowed_books:\n",
    "            print(f\"- {book._title}\")"
   ]
  },
  {
   "cell_type": "markdown",
   "metadata": {},
   "source": [
    "**Demonstration**"
   ]
  },
  {
   "cell_type": "code",
   "execution_count": 108,
   "metadata": {},
   "outputs": [
    {
     "name": "stdout",
     "output_type": "stream",
     "text": [
      "\n",
      "--- Book Information ---\n",
      "Title: The Great Gatsby\n",
      "Author: F. Scott Fitzgerald\n",
      "ISBN: 123456789\n",
      "Copies Available: 2\n",
      "Title: Python Programming\n",
      "Author: Guido van Rossum\n",
      "ISBN: 555666777\n",
      "Copies Available: 1\n",
      "File Size: 5MB\n",
      "File Format: PDF\n",
      "\n",
      "--- Borrowing Books ---\n",
      "Borrowed 'The Great Gatsby'. Remaining copies: 1\n",
      "Borrowed '1984'. Remaining copies: 0\n",
      "Borrowed 'Python Programming'. Remaining copies: 0\n",
      "Alice has already borrowed 3 books!\n",
      "\n",
      "--- Borrowed Books ---\n",
      "Alice has borrowed:\n",
      "- The Great Gatsby\n",
      "- 1984\n",
      "- Python Programming\n",
      "\n",
      "--- Returning a Book ---\n",
      "Returned 'The Great Gatsby'. Total copies: 2\n",
      "Alice has borrowed:\n",
      "- 1984\n",
      "- Python Programming\n",
      "\n",
      "--- Borrowing After Returning ---\n",
      "Borrowed 'To Kill a Mockingbird'. Remaining copies: 0\n",
      "\n",
      "--- Abstract Class Implementation ---\n",
      "Alice (ID: S001) is a library member.\n"
     ]
    }
   ],
   "source": [
    "if __name__ == \"__main__\":\n",
    "    # Create some book objects\n",
    "    book1 = Book(\"The Great Gatsby\", \"F. Scott Fitzgerald\", \"123456789\", 2)\n",
    "    book2 = Book(\"1984\", \"George Orwell\", \"987654321\", 1)\n",
    "    ebook1 = EBook(\"Python Programming\", \"Guido van Rossum\", \"555666777\", 5, \"PDF\")\n",
    "\n",
    "    # Display information using polymorphism\n",
    "    print(\"\\n--- Book Information ---\")\n",
    "    book_info(book1)\n",
    "    book_info(ebook1)\n",
    "\n",
    "    # Create a student member\n",
    "    student = Student(\"Alice\", \"S001\")\n",
    "\n",
    "    # Borrow books\n",
    "    print(\"\\n--- Borrowing Books ---\")\n",
    "    student.borrow(book1)\n",
    "    student.borrow(book2)\n",
    "    student.borrow(ebook1)\n",
    "\n",
    "    # Try borrowing more than 3 books\n",
    "    book3 = Book(\"To Kill a Mockingbird\", \"Harper Lee\", \"222333444\", 1)\n",
    "    student.borrow(book3)\n",
    "\n",
    "    # Display borrowed books\n",
    "    print(\"\\n--- Borrowed Books ---\")\n",
    "    student.display_borrowed_books()\n",
    "\n",
    "    # Return a book\n",
    "    print(\"\\n--- Returning a Book ---\")\n",
    "    student.return_item(book1)\n",
    "    student.display_borrowed_books()\n",
    "\n",
    "    # Borrow again\n",
    "    print(\"\\n--- Borrowing After Returning ---\")\n",
    "    student.borrow(book3)\n",
    "\n",
    "    # Abstract base class demonstration\n",
    "    print(\"\\n--- Abstract Class Implementation ---\")\n",
    "    print(f\"{student.name} (ID: {student.member_id}) is a library member.\")"
   ]
  },
  {
   "cell_type": "markdown",
   "metadata": {},
   "source": [
    "## Pandas' DataFrame class\n",
    "\n",
    "*Renting bikes in NYC...*\n",
    "\n",
    "In the following, we use data from Citi Bike.\n",
    "\n",
    "> **Wikipedia:** Citi Bike is a privately owned public bicycle sharing system serving the New York City boroughs of the Bronx, Brooklyn, Manhattan, and Queens, as well as Jersey City and Hoboken, New Jersey. Named after lead sponsor Citigroup, it was operated by Motivate (formerly Alta Bicycle Share), with former Metropolitan Transportation Authority CEO Jay Walder as chief executive until September 30, 2018, when the company was acquired by Lyft. The system's bikes and stations use technology from Lyft. \n",
    "\n",
    "**Source:** https://en.wikipedia.org/wiki/Citi_Bike\n",
    "\n",
    "Citi Bike provides monthly reports of their service usage that can be obtained from https://citibikenyc.com/system-data or more specifcially https://s3.amazonaws.com/tripdata/index.html"
   ]
  },
  {
   "cell_type": "code",
   "execution_count": 111,
   "metadata": {},
   "outputs": [
    {
     "name": "stderr",
     "output_type": "stream",
     "text": [
      "'wget' is not recognized as an internal or external command,\n",
      "operable program or batch file.\n"
     ]
    }
   ],
   "source": [
    "!wget https://s3.amazonaws.com/tripdata/JC-202410-citibike-tripdata.csv.zip && unzip JC-202410-citibike-tripdata.csv.zip"
   ]
  },
  {
   "cell_type": "code",
   "execution_count": 115,
   "metadata": {},
   "outputs": [
    {
     "name": "stderr",
     "output_type": "stream",
     "text": [
      "C:\\Users\\user\\AppData\\Local\\Temp\\ipykernel_3416\\2503276215.py:3: DtypeWarning: Columns (5,7) have mixed types. Specify dtype option on import or set low_memory=False.\n",
      "  df = pd.read_csv(r\"C:\\Users\\user\\Desktop\\TH KÖLN\\Semester 5\\Daten Modellierung\\202412-citibike-tripdata\\202412-citibike-tripdata_1.csv\")\n"
     ]
    },
    {
     "data": {
      "text/html": [
       "<div>\n",
       "<style scoped>\n",
       "    .dataframe tbody tr th:only-of-type {\n",
       "        vertical-align: middle;\n",
       "    }\n",
       "\n",
       "    .dataframe tbody tr th {\n",
       "        vertical-align: top;\n",
       "    }\n",
       "\n",
       "    .dataframe thead th {\n",
       "        text-align: right;\n",
       "    }\n",
       "</style>\n",
       "<table border=\"1\" class=\"dataframe\">\n",
       "  <thead>\n",
       "    <tr style=\"text-align: right;\">\n",
       "      <th></th>\n",
       "      <th>ride_id</th>\n",
       "      <th>rideable_type</th>\n",
       "      <th>started_at</th>\n",
       "      <th>ended_at</th>\n",
       "      <th>start_station_name</th>\n",
       "      <th>start_station_id</th>\n",
       "      <th>end_station_name</th>\n",
       "      <th>end_station_id</th>\n",
       "      <th>start_lat</th>\n",
       "      <th>start_lng</th>\n",
       "      <th>end_lat</th>\n",
       "      <th>end_lng</th>\n",
       "      <th>member_casual</th>\n",
       "    </tr>\n",
       "  </thead>\n",
       "  <tbody>\n",
       "    <tr>\n",
       "      <th>0</th>\n",
       "      <td>B44E5B10AEE58AD0</td>\n",
       "      <td>classic_bike</td>\n",
       "      <td>2024-12-14 10:58:18.153</td>\n",
       "      <td>2024-12-14 11:11:11.308</td>\n",
       "      <td>Frederick Douglass Blvd &amp; W 145 St</td>\n",
       "      <td>7954.12</td>\n",
       "      <td>E 138 St &amp; 5 Ave</td>\n",
       "      <td>7809.13</td>\n",
       "      <td>40.823061</td>\n",
       "      <td>-73.941928</td>\n",
       "      <td>40.814490</td>\n",
       "      <td>-73.936153</td>\n",
       "      <td>member</td>\n",
       "    </tr>\n",
       "    <tr>\n",
       "      <th>1</th>\n",
       "      <td>BC252DC6A6011556</td>\n",
       "      <td>electric_bike</td>\n",
       "      <td>2024-12-12 14:46:12.473</td>\n",
       "      <td>2024-12-12 16:45:37.777</td>\n",
       "      <td>Madison Ave &amp; E 99 St</td>\n",
       "      <td>7443.01</td>\n",
       "      <td>NaN</td>\n",
       "      <td>NaN</td>\n",
       "      <td>40.789485</td>\n",
       "      <td>-73.952429</td>\n",
       "      <td>40.780000</td>\n",
       "      <td>-73.960000</td>\n",
       "      <td>member</td>\n",
       "    </tr>\n",
       "    <tr>\n",
       "      <th>2</th>\n",
       "      <td>6FBE55EF6FE8736D</td>\n",
       "      <td>electric_bike</td>\n",
       "      <td>2024-12-11 07:55:18.770</td>\n",
       "      <td>2024-12-11 08:02:23.460</td>\n",
       "      <td>Columbia St &amp; Kane St</td>\n",
       "      <td>4422.05</td>\n",
       "      <td>NaN</td>\n",
       "      <td>NaN</td>\n",
       "      <td>40.687632</td>\n",
       "      <td>-74.001626</td>\n",
       "      <td>40.690000</td>\n",
       "      <td>-74.000000</td>\n",
       "      <td>member</td>\n",
       "    </tr>\n",
       "    <tr>\n",
       "      <th>3</th>\n",
       "      <td>908890DE7FDCF9FE</td>\n",
       "      <td>electric_bike</td>\n",
       "      <td>2024-12-09 22:51:11.668</td>\n",
       "      <td>2024-12-09 22:57:43.495</td>\n",
       "      <td>E 13 St &amp; 2 Ave</td>\n",
       "      <td>5820.08</td>\n",
       "      <td>E 10 St &amp; 2 Ave</td>\n",
       "      <td>5746.02</td>\n",
       "      <td>40.731539</td>\n",
       "      <td>-73.985302</td>\n",
       "      <td>40.729708</td>\n",
       "      <td>-73.986598</td>\n",
       "      <td>member</td>\n",
       "    </tr>\n",
       "    <tr>\n",
       "      <th>4</th>\n",
       "      <td>D5D366379A4DC0A8</td>\n",
       "      <td>classic_bike</td>\n",
       "      <td>2024-12-10 18:48:40.063</td>\n",
       "      <td>2024-12-10 19:10:32.264</td>\n",
       "      <td>11 Ave &amp; W 41 St</td>\n",
       "      <td>6726.01</td>\n",
       "      <td>E 25 St &amp; 1 Ave</td>\n",
       "      <td>6004.07</td>\n",
       "      <td>40.760301</td>\n",
       "      <td>-73.998842</td>\n",
       "      <td>40.738177</td>\n",
       "      <td>-73.977387</td>\n",
       "      <td>member</td>\n",
       "    </tr>\n",
       "    <tr>\n",
       "      <th>...</th>\n",
       "      <td>...</td>\n",
       "      <td>...</td>\n",
       "      <td>...</td>\n",
       "      <td>...</td>\n",
       "      <td>...</td>\n",
       "      <td>...</td>\n",
       "      <td>...</td>\n",
       "      <td>...</td>\n",
       "      <td>...</td>\n",
       "      <td>...</td>\n",
       "      <td>...</td>\n",
       "      <td>...</td>\n",
       "      <td>...</td>\n",
       "    </tr>\n",
       "    <tr>\n",
       "      <th>999995</th>\n",
       "      <td>4D7A0F3A9B538327</td>\n",
       "      <td>classic_bike</td>\n",
       "      <td>2024-12-06 18:43:51.866</td>\n",
       "      <td>2024-12-06 18:50:29.033</td>\n",
       "      <td>5 Ave &amp; E 30 St</td>\n",
       "      <td>6248.08</td>\n",
       "      <td>10 Ave &amp; W 28 St</td>\n",
       "      <td>6459.04</td>\n",
       "      <td>40.745985</td>\n",
       "      <td>-73.986295</td>\n",
       "      <td>40.750664</td>\n",
       "      <td>-74.001768</td>\n",
       "      <td>member</td>\n",
       "    </tr>\n",
       "    <tr>\n",
       "      <th>999996</th>\n",
       "      <td>93C022D486F87ABC</td>\n",
       "      <td>classic_bike</td>\n",
       "      <td>2024-12-10 10:34:58.071</td>\n",
       "      <td>2024-12-10 10:51:49.151</td>\n",
       "      <td>Lafayette St &amp; Grand St</td>\n",
       "      <td>5422.09</td>\n",
       "      <td>10 Ave &amp; W 28 St</td>\n",
       "      <td>6459.04</td>\n",
       "      <td>40.720280</td>\n",
       "      <td>-73.998790</td>\n",
       "      <td>40.750664</td>\n",
       "      <td>-74.001768</td>\n",
       "      <td>member</td>\n",
       "    </tr>\n",
       "    <tr>\n",
       "      <th>999997</th>\n",
       "      <td>20A11C486859F19B</td>\n",
       "      <td>electric_bike</td>\n",
       "      <td>2024-12-03 14:02:29.375</td>\n",
       "      <td>2024-12-03 14:07:51.452</td>\n",
       "      <td>Lenox Ave &amp; W 117 St</td>\n",
       "      <td>7655.22</td>\n",
       "      <td>W 110 St &amp; Amsterdam Ave</td>\n",
       "      <td>7646.04</td>\n",
       "      <td>40.802557</td>\n",
       "      <td>-73.949078</td>\n",
       "      <td>40.802692</td>\n",
       "      <td>-73.962950</td>\n",
       "      <td>member</td>\n",
       "    </tr>\n",
       "    <tr>\n",
       "      <th>999998</th>\n",
       "      <td>4D27B49621858BF9</td>\n",
       "      <td>electric_bike</td>\n",
       "      <td>2024-12-05 07:03:08.210</td>\n",
       "      <td>2024-12-05 07:06:03.572</td>\n",
       "      <td>Watts St &amp; Greenwich St</td>\n",
       "      <td>5578.02</td>\n",
       "      <td>West St &amp; Chambers St</td>\n",
       "      <td>5329.03</td>\n",
       "      <td>40.724055</td>\n",
       "      <td>-74.009660</td>\n",
       "      <td>40.717548</td>\n",
       "      <td>-74.013221</td>\n",
       "      <td>casual</td>\n",
       "    </tr>\n",
       "    <tr>\n",
       "      <th>999999</th>\n",
       "      <td>AA99DCFF9F464CC0</td>\n",
       "      <td>electric_bike</td>\n",
       "      <td>2024-12-09 08:33:59.397</td>\n",
       "      <td>2024-12-09 08:46:22.344</td>\n",
       "      <td>Washington Ave &amp; E 174 St</td>\n",
       "      <td>8277.03</td>\n",
       "      <td>Courtlandt Ave &amp; E 149 St</td>\n",
       "      <td>7840.05</td>\n",
       "      <td>40.843079</td>\n",
       "      <td>-73.900216</td>\n",
       "      <td>40.816402</td>\n",
       "      <td>-73.919549</td>\n",
       "      <td>member</td>\n",
       "    </tr>\n",
       "  </tbody>\n",
       "</table>\n",
       "<p>1000000 rows × 13 columns</p>\n",
       "</div>"
      ],
      "text/plain": [
       "                 ride_id  rideable_type               started_at  \\\n",
       "0       B44E5B10AEE58AD0   classic_bike  2024-12-14 10:58:18.153   \n",
       "1       BC252DC6A6011556  electric_bike  2024-12-12 14:46:12.473   \n",
       "2       6FBE55EF6FE8736D  electric_bike  2024-12-11 07:55:18.770   \n",
       "3       908890DE7FDCF9FE  electric_bike  2024-12-09 22:51:11.668   \n",
       "4       D5D366379A4DC0A8   classic_bike  2024-12-10 18:48:40.063   \n",
       "...                  ...            ...                      ...   \n",
       "999995  4D7A0F3A9B538327   classic_bike  2024-12-06 18:43:51.866   \n",
       "999996  93C022D486F87ABC   classic_bike  2024-12-10 10:34:58.071   \n",
       "999997  20A11C486859F19B  electric_bike  2024-12-03 14:02:29.375   \n",
       "999998  4D27B49621858BF9  electric_bike  2024-12-05 07:03:08.210   \n",
       "999999  AA99DCFF9F464CC0  electric_bike  2024-12-09 08:33:59.397   \n",
       "\n",
       "                       ended_at                  start_station_name  \\\n",
       "0       2024-12-14 11:11:11.308  Frederick Douglass Blvd & W 145 St   \n",
       "1       2024-12-12 16:45:37.777               Madison Ave & E 99 St   \n",
       "2       2024-12-11 08:02:23.460               Columbia St & Kane St   \n",
       "3       2024-12-09 22:57:43.495                     E 13 St & 2 Ave   \n",
       "4       2024-12-10 19:10:32.264                    11 Ave & W 41 St   \n",
       "...                         ...                                 ...   \n",
       "999995  2024-12-06 18:50:29.033                     5 Ave & E 30 St   \n",
       "999996  2024-12-10 10:51:49.151             Lafayette St & Grand St   \n",
       "999997  2024-12-03 14:07:51.452                Lenox Ave & W 117 St   \n",
       "999998  2024-12-05 07:06:03.572             Watts St & Greenwich St   \n",
       "999999  2024-12-09 08:46:22.344           Washington Ave & E 174 St   \n",
       "\n",
       "       start_station_id           end_station_name end_station_id  start_lat  \\\n",
       "0               7954.12           E 138 St & 5 Ave        7809.13  40.823061   \n",
       "1               7443.01                        NaN            NaN  40.789485   \n",
       "2               4422.05                        NaN            NaN  40.687632   \n",
       "3               5820.08            E 10 St & 2 Ave        5746.02  40.731539   \n",
       "4               6726.01            E 25 St & 1 Ave        6004.07  40.760301   \n",
       "...                 ...                        ...            ...        ...   \n",
       "999995          6248.08           10 Ave & W 28 St        6459.04  40.745985   \n",
       "999996          5422.09           10 Ave & W 28 St        6459.04  40.720280   \n",
       "999997          7655.22   W 110 St & Amsterdam Ave        7646.04  40.802557   \n",
       "999998          5578.02      West St & Chambers St        5329.03  40.724055   \n",
       "999999          8277.03  Courtlandt Ave & E 149 St        7840.05  40.843079   \n",
       "\n",
       "        start_lng    end_lat    end_lng member_casual  \n",
       "0      -73.941928  40.814490 -73.936153        member  \n",
       "1      -73.952429  40.780000 -73.960000        member  \n",
       "2      -74.001626  40.690000 -74.000000        member  \n",
       "3      -73.985302  40.729708 -73.986598        member  \n",
       "4      -73.998842  40.738177 -73.977387        member  \n",
       "...           ...        ...        ...           ...  \n",
       "999995 -73.986295  40.750664 -74.001768        member  \n",
       "999996 -73.998790  40.750664 -74.001768        member  \n",
       "999997 -73.949078  40.802692 -73.962950        member  \n",
       "999998 -74.009660  40.717548 -74.013221        casual  \n",
       "999999 -73.900216  40.816402 -73.919549        member  \n",
       "\n",
       "[1000000 rows x 13 columns]"
      ]
     },
     "execution_count": 115,
     "metadata": {},
     "output_type": "execute_result"
    }
   ],
   "source": [
    "import pandas as pd\n",
    "\n",
    "df = pd.read_csv(r\"C:\\Users\\user\\Desktop\\TH KÖLN\\Semester 5\\Daten Modellierung\\202412-citibike-tripdata\\202412-citibike-tripdata_1.csv\")\n",
    "df"
   ]
  },
  {
   "cell_type": "code",
   "execution_count": 117,
   "metadata": {},
   "outputs": [
    {
     "name": "stdout",
     "output_type": "stream",
     "text": [
      "  start_station_id end_station_id\n",
      "0          7954.12        7809.13\n",
      "1          7443.01            NaN\n",
      "2          4422.05            NaN\n",
      "3          5820.08        5746.02\n",
      "4          6726.01        6004.07\n"
     ]
    }
   ],
   "source": [
    "# Inspect columns with mixed data types\n",
    "print(df.iloc[:, [5, 7]].head())  # Adjusting column indices for the specific issue\n"
   ]
  },
  {
   "cell_type": "code",
   "execution_count": 119,
   "metadata": {},
   "outputs": [
    {
     "name": "stdout",
     "output_type": "stream",
     "text": [
      "<class 'pandas.core.frame.DataFrame'>\n",
      "RangeIndex: 1000000 entries, 0 to 999999\n",
      "Data columns (total 13 columns):\n",
      " #   Column              Non-Null Count    Dtype  \n",
      "---  ------              --------------    -----  \n",
      " 0   ride_id             1000000 non-null  object \n",
      " 1   rideable_type       1000000 non-null  object \n",
      " 2   started_at          1000000 non-null  object \n",
      " 3   ended_at            1000000 non-null  object \n",
      " 4   start_station_name  999375 non-null   object \n",
      " 5   start_station_id    999375 non-null   object \n",
      " 6   end_station_name    996417 non-null   object \n",
      " 7   end_station_id      995525 non-null   object \n",
      " 8   start_lat           1000000 non-null  float64\n",
      " 9   start_lng           1000000 non-null  float64\n",
      " 10  end_lat             999795 non-null   float64\n",
      " 11  end_lng             999795 non-null   float64\n",
      " 12  member_casual       1000000 non-null  object \n",
      "dtypes: float64(4), object(9)\n",
      "memory usage: 99.2+ MB\n"
     ]
    }
   ],
   "source": [
    "df.info()"
   ]
  },
  {
   "cell_type": "code",
   "execution_count": 121,
   "metadata": {},
   "outputs": [
    {
     "data": {
      "text/plain": [
       "Index(['ride_id', 'rideable_type', 'started_at', 'ended_at',\n",
       "       'start_station_name', 'start_station_id', 'end_station_name',\n",
       "       'end_station_id', 'start_lat', 'start_lng', 'end_lat', 'end_lng',\n",
       "       'member_casual'],\n",
       "      dtype='object')"
      ]
     },
     "execution_count": 121,
     "metadata": {},
     "output_type": "execute_result"
    }
   ],
   "source": [
    "df.columns"
   ]
  },
  {
   "cell_type": "code",
   "execution_count": 123,
   "metadata": {},
   "outputs": [
    {
     "data": {
      "text/html": [
       "<div>\n",
       "<style scoped>\n",
       "    .dataframe tbody tr th:only-of-type {\n",
       "        vertical-align: middle;\n",
       "    }\n",
       "\n",
       "    .dataframe tbody tr th {\n",
       "        vertical-align: top;\n",
       "    }\n",
       "\n",
       "    .dataframe thead th {\n",
       "        text-align: right;\n",
       "    }\n",
       "</style>\n",
       "<table border=\"1\" class=\"dataframe\">\n",
       "  <thead>\n",
       "    <tr style=\"text-align: right;\">\n",
       "      <th></th>\n",
       "      <th>ride_id</th>\n",
       "      <th>rideable_type</th>\n",
       "      <th>started_at</th>\n",
       "      <th>ended_at</th>\n",
       "      <th>start_station_name</th>\n",
       "      <th>start_station_id</th>\n",
       "      <th>end_station_name</th>\n",
       "      <th>end_station_id</th>\n",
       "      <th>start_lat</th>\n",
       "      <th>start_lng</th>\n",
       "      <th>end_lat</th>\n",
       "      <th>end_lng</th>\n",
       "      <th>member_casual</th>\n",
       "    </tr>\n",
       "  </thead>\n",
       "  <tbody>\n",
       "    <tr>\n",
       "      <th>0</th>\n",
       "      <td>B44E5B10AEE58AD0</td>\n",
       "      <td>classic_bike</td>\n",
       "      <td>2024-12-14 10:58:18.153</td>\n",
       "      <td>2024-12-14 11:11:11.308</td>\n",
       "      <td>Frederick Douglass Blvd &amp; W 145 St</td>\n",
       "      <td>7954.12</td>\n",
       "      <td>E 138 St &amp; 5 Ave</td>\n",
       "      <td>7809.13</td>\n",
       "      <td>40.823061</td>\n",
       "      <td>-73.941928</td>\n",
       "      <td>40.814490</td>\n",
       "      <td>-73.936153</td>\n",
       "      <td>member</td>\n",
       "    </tr>\n",
       "    <tr>\n",
       "      <th>1</th>\n",
       "      <td>BC252DC6A6011556</td>\n",
       "      <td>electric_bike</td>\n",
       "      <td>2024-12-12 14:46:12.473</td>\n",
       "      <td>2024-12-12 16:45:37.777</td>\n",
       "      <td>Madison Ave &amp; E 99 St</td>\n",
       "      <td>7443.01</td>\n",
       "      <td>NaN</td>\n",
       "      <td>NaN</td>\n",
       "      <td>40.789485</td>\n",
       "      <td>-73.952429</td>\n",
       "      <td>40.780000</td>\n",
       "      <td>-73.960000</td>\n",
       "      <td>member</td>\n",
       "    </tr>\n",
       "    <tr>\n",
       "      <th>2</th>\n",
       "      <td>6FBE55EF6FE8736D</td>\n",
       "      <td>electric_bike</td>\n",
       "      <td>2024-12-11 07:55:18.770</td>\n",
       "      <td>2024-12-11 08:02:23.460</td>\n",
       "      <td>Columbia St &amp; Kane St</td>\n",
       "      <td>4422.05</td>\n",
       "      <td>NaN</td>\n",
       "      <td>NaN</td>\n",
       "      <td>40.687632</td>\n",
       "      <td>-74.001626</td>\n",
       "      <td>40.690000</td>\n",
       "      <td>-74.000000</td>\n",
       "      <td>member</td>\n",
       "    </tr>\n",
       "    <tr>\n",
       "      <th>3</th>\n",
       "      <td>908890DE7FDCF9FE</td>\n",
       "      <td>electric_bike</td>\n",
       "      <td>2024-12-09 22:51:11.668</td>\n",
       "      <td>2024-12-09 22:57:43.495</td>\n",
       "      <td>E 13 St &amp; 2 Ave</td>\n",
       "      <td>5820.08</td>\n",
       "      <td>E 10 St &amp; 2 Ave</td>\n",
       "      <td>5746.02</td>\n",
       "      <td>40.731539</td>\n",
       "      <td>-73.985302</td>\n",
       "      <td>40.729708</td>\n",
       "      <td>-73.986598</td>\n",
       "      <td>member</td>\n",
       "    </tr>\n",
       "    <tr>\n",
       "      <th>4</th>\n",
       "      <td>D5D366379A4DC0A8</td>\n",
       "      <td>classic_bike</td>\n",
       "      <td>2024-12-10 18:48:40.063</td>\n",
       "      <td>2024-12-10 19:10:32.264</td>\n",
       "      <td>11 Ave &amp; W 41 St</td>\n",
       "      <td>6726.01</td>\n",
       "      <td>E 25 St &amp; 1 Ave</td>\n",
       "      <td>6004.07</td>\n",
       "      <td>40.760301</td>\n",
       "      <td>-73.998842</td>\n",
       "      <td>40.738177</td>\n",
       "      <td>-73.977387</td>\n",
       "      <td>member</td>\n",
       "    </tr>\n",
       "    <tr>\n",
       "      <th>5</th>\n",
       "      <td>D56FA800710E6478</td>\n",
       "      <td>classic_bike</td>\n",
       "      <td>2024-12-03 13:14:09.026</td>\n",
       "      <td>2024-12-03 13:16:23.278</td>\n",
       "      <td>E 13 St &amp; 2 Ave</td>\n",
       "      <td>5820.08</td>\n",
       "      <td>E 10 St &amp; 2 Ave</td>\n",
       "      <td>5746.02</td>\n",
       "      <td>40.731539</td>\n",
       "      <td>-73.985302</td>\n",
       "      <td>40.729708</td>\n",
       "      <td>-73.986598</td>\n",
       "      <td>member</td>\n",
       "    </tr>\n",
       "    <tr>\n",
       "      <th>6</th>\n",
       "      <td>DF7648016BCEECD1</td>\n",
       "      <td>electric_bike</td>\n",
       "      <td>2024-12-13 16:07:22.623</td>\n",
       "      <td>2024-12-13 16:14:25.927</td>\n",
       "      <td>Bond St &amp; Fulton St</td>\n",
       "      <td>4479.06</td>\n",
       "      <td>Columbia Heights &amp; Cranberry St</td>\n",
       "      <td>4829.01</td>\n",
       "      <td>40.689622</td>\n",
       "      <td>-73.983043</td>\n",
       "      <td>40.700379</td>\n",
       "      <td>-73.995481</td>\n",
       "      <td>member</td>\n",
       "    </tr>\n",
       "    <tr>\n",
       "      <th>7</th>\n",
       "      <td>B3D30FB1C434D756</td>\n",
       "      <td>classic_bike</td>\n",
       "      <td>2024-12-13 10:19:37.918</td>\n",
       "      <td>2024-12-13 10:22:25.468</td>\n",
       "      <td>W 24 St &amp; 7 Ave</td>\n",
       "      <td>6257.03</td>\n",
       "      <td>W 25 St &amp; 9 Ave</td>\n",
       "      <td>6339.06</td>\n",
       "      <td>40.744876</td>\n",
       "      <td>-73.995299</td>\n",
       "      <td>40.747833</td>\n",
       "      <td>-74.000572</td>\n",
       "      <td>member</td>\n",
       "    </tr>\n",
       "    <tr>\n",
       "      <th>8</th>\n",
       "      <td>35B761A9266DBB9E</td>\n",
       "      <td>classic_bike</td>\n",
       "      <td>2024-12-14 18:13:21.420</td>\n",
       "      <td>2024-12-14 18:18:06.067</td>\n",
       "      <td>W 24 St &amp; 7 Ave</td>\n",
       "      <td>6257.03</td>\n",
       "      <td>W 25 St &amp; 9 Ave</td>\n",
       "      <td>6339.06</td>\n",
       "      <td>40.744876</td>\n",
       "      <td>-73.995299</td>\n",
       "      <td>40.747833</td>\n",
       "      <td>-74.000572</td>\n",
       "      <td>member</td>\n",
       "    </tr>\n",
       "    <tr>\n",
       "      <th>9</th>\n",
       "      <td>BA1E0BE59444AA29</td>\n",
       "      <td>electric_bike</td>\n",
       "      <td>2024-12-10 18:03:56.635</td>\n",
       "      <td>2024-12-10 18:06:46.676</td>\n",
       "      <td>W 24 St &amp; 7 Ave</td>\n",
       "      <td>6257.03</td>\n",
       "      <td>W 25 St &amp; 9 Ave</td>\n",
       "      <td>6339.06</td>\n",
       "      <td>40.744876</td>\n",
       "      <td>-73.995299</td>\n",
       "      <td>40.747833</td>\n",
       "      <td>-74.000572</td>\n",
       "      <td>member</td>\n",
       "    </tr>\n",
       "  </tbody>\n",
       "</table>\n",
       "</div>"
      ],
      "text/plain": [
       "            ride_id  rideable_type               started_at  \\\n",
       "0  B44E5B10AEE58AD0   classic_bike  2024-12-14 10:58:18.153   \n",
       "1  BC252DC6A6011556  electric_bike  2024-12-12 14:46:12.473   \n",
       "2  6FBE55EF6FE8736D  electric_bike  2024-12-11 07:55:18.770   \n",
       "3  908890DE7FDCF9FE  electric_bike  2024-12-09 22:51:11.668   \n",
       "4  D5D366379A4DC0A8   classic_bike  2024-12-10 18:48:40.063   \n",
       "5  D56FA800710E6478   classic_bike  2024-12-03 13:14:09.026   \n",
       "6  DF7648016BCEECD1  electric_bike  2024-12-13 16:07:22.623   \n",
       "7  B3D30FB1C434D756   classic_bike  2024-12-13 10:19:37.918   \n",
       "8  35B761A9266DBB9E   classic_bike  2024-12-14 18:13:21.420   \n",
       "9  BA1E0BE59444AA29  electric_bike  2024-12-10 18:03:56.635   \n",
       "\n",
       "                  ended_at                  start_station_name  \\\n",
       "0  2024-12-14 11:11:11.308  Frederick Douglass Blvd & W 145 St   \n",
       "1  2024-12-12 16:45:37.777               Madison Ave & E 99 St   \n",
       "2  2024-12-11 08:02:23.460               Columbia St & Kane St   \n",
       "3  2024-12-09 22:57:43.495                     E 13 St & 2 Ave   \n",
       "4  2024-12-10 19:10:32.264                    11 Ave & W 41 St   \n",
       "5  2024-12-03 13:16:23.278                     E 13 St & 2 Ave   \n",
       "6  2024-12-13 16:14:25.927                 Bond St & Fulton St   \n",
       "7  2024-12-13 10:22:25.468                     W 24 St & 7 Ave   \n",
       "8  2024-12-14 18:18:06.067                     W 24 St & 7 Ave   \n",
       "9  2024-12-10 18:06:46.676                     W 24 St & 7 Ave   \n",
       "\n",
       "  start_station_id                 end_station_name end_station_id  start_lat  \\\n",
       "0          7954.12                 E 138 St & 5 Ave        7809.13  40.823061   \n",
       "1          7443.01                              NaN            NaN  40.789485   \n",
       "2          4422.05                              NaN            NaN  40.687632   \n",
       "3          5820.08                  E 10 St & 2 Ave        5746.02  40.731539   \n",
       "4          6726.01                  E 25 St & 1 Ave        6004.07  40.760301   \n",
       "5          5820.08                  E 10 St & 2 Ave        5746.02  40.731539   \n",
       "6          4479.06  Columbia Heights & Cranberry St        4829.01  40.689622   \n",
       "7          6257.03                  W 25 St & 9 Ave        6339.06  40.744876   \n",
       "8          6257.03                  W 25 St & 9 Ave        6339.06  40.744876   \n",
       "9          6257.03                  W 25 St & 9 Ave        6339.06  40.744876   \n",
       "\n",
       "   start_lng    end_lat    end_lng member_casual  \n",
       "0 -73.941928  40.814490 -73.936153        member  \n",
       "1 -73.952429  40.780000 -73.960000        member  \n",
       "2 -74.001626  40.690000 -74.000000        member  \n",
       "3 -73.985302  40.729708 -73.986598        member  \n",
       "4 -73.998842  40.738177 -73.977387        member  \n",
       "5 -73.985302  40.729708 -73.986598        member  \n",
       "6 -73.983043  40.700379 -73.995481        member  \n",
       "7 -73.995299  40.747833 -74.000572        member  \n",
       "8 -73.995299  40.747833 -74.000572        member  \n",
       "9 -73.995299  40.747833 -74.000572        member  "
      ]
     },
     "execution_count": 123,
     "metadata": {},
     "output_type": "execute_result"
    }
   ],
   "source": [
    "df.head(n=10)"
   ]
  },
  {
   "cell_type": "code",
   "execution_count": 125,
   "metadata": {},
   "outputs": [
    {
     "data": {
      "text/html": [
       "<div>\n",
       "<style scoped>\n",
       "    .dataframe tbody tr th:only-of-type {\n",
       "        vertical-align: middle;\n",
       "    }\n",
       "\n",
       "    .dataframe tbody tr th {\n",
       "        vertical-align: top;\n",
       "    }\n",
       "\n",
       "    .dataframe thead th {\n",
       "        text-align: right;\n",
       "    }\n",
       "</style>\n",
       "<table border=\"1\" class=\"dataframe\">\n",
       "  <thead>\n",
       "    <tr style=\"text-align: right;\">\n",
       "      <th></th>\n",
       "      <th>ride_id</th>\n",
       "      <th>rideable_type</th>\n",
       "      <th>started_at</th>\n",
       "      <th>ended_at</th>\n",
       "      <th>start_station_name</th>\n",
       "      <th>start_station_id</th>\n",
       "      <th>end_station_name</th>\n",
       "      <th>end_station_id</th>\n",
       "      <th>start_lat</th>\n",
       "      <th>start_lng</th>\n",
       "      <th>end_lat</th>\n",
       "      <th>end_lng</th>\n",
       "      <th>member_casual</th>\n",
       "    </tr>\n",
       "  </thead>\n",
       "  <tbody>\n",
       "    <tr>\n",
       "      <th>999990</th>\n",
       "      <td>7CC1A828C23BC380</td>\n",
       "      <td>classic_bike</td>\n",
       "      <td>2024-12-12 09:37:03.823</td>\n",
       "      <td>2024-12-12 09:42:43.090</td>\n",
       "      <td>E 17 St &amp; Broadway</td>\n",
       "      <td>5980.1</td>\n",
       "      <td>E 31 St &amp; 3 Ave</td>\n",
       "      <td>6239.08</td>\n",
       "      <td>40.737006</td>\n",
       "      <td>-73.990134</td>\n",
       "      <td>40.743943</td>\n",
       "      <td>-73.979661</td>\n",
       "      <td>member</td>\n",
       "    </tr>\n",
       "    <tr>\n",
       "      <th>999991</th>\n",
       "      <td>71E92C5FF72D8AAE</td>\n",
       "      <td>classic_bike</td>\n",
       "      <td>2024-12-12 06:51:31.858</td>\n",
       "      <td>2024-12-12 06:57:59.346</td>\n",
       "      <td>Washington St &amp; Gansevoort St</td>\n",
       "      <td>6039.06</td>\n",
       "      <td>10 Ave &amp; W 28 St</td>\n",
       "      <td>6459.04</td>\n",
       "      <td>40.739323</td>\n",
       "      <td>-74.008119</td>\n",
       "      <td>40.750664</td>\n",
       "      <td>-74.001768</td>\n",
       "      <td>member</td>\n",
       "    </tr>\n",
       "    <tr>\n",
       "      <th>999992</th>\n",
       "      <td>284CA3F988EC441C</td>\n",
       "      <td>electric_bike</td>\n",
       "      <td>2024-12-09 18:19:48.103</td>\n",
       "      <td>2024-12-09 18:29:23.536</td>\n",
       "      <td>E 17 St &amp; Broadway</td>\n",
       "      <td>5980.1</td>\n",
       "      <td>E 31 St &amp; 3 Ave</td>\n",
       "      <td>6239.08</td>\n",
       "      <td>40.737006</td>\n",
       "      <td>-73.990134</td>\n",
       "      <td>40.743943</td>\n",
       "      <td>-73.979661</td>\n",
       "      <td>casual</td>\n",
       "    </tr>\n",
       "    <tr>\n",
       "      <th>999993</th>\n",
       "      <td>21687933F8277992</td>\n",
       "      <td>classic_bike</td>\n",
       "      <td>2024-12-03 16:30:44.051</td>\n",
       "      <td>2024-12-03 16:41:10.112</td>\n",
       "      <td>Washington St &amp; Gansevoort St</td>\n",
       "      <td>6039.06</td>\n",
       "      <td>West St &amp; Chambers St</td>\n",
       "      <td>5329.03</td>\n",
       "      <td>40.739323</td>\n",
       "      <td>-74.008119</td>\n",
       "      <td>40.717548</td>\n",
       "      <td>-74.013221</td>\n",
       "      <td>member</td>\n",
       "    </tr>\n",
       "    <tr>\n",
       "      <th>999994</th>\n",
       "      <td>7F9F2EB83A791E29</td>\n",
       "      <td>electric_bike</td>\n",
       "      <td>2024-12-10 11:09:55.259</td>\n",
       "      <td>2024-12-10 11:13:49.980</td>\n",
       "      <td>Washington St &amp; Gansevoort St</td>\n",
       "      <td>6039.06</td>\n",
       "      <td>10 Ave &amp; W 28 St</td>\n",
       "      <td>6459.04</td>\n",
       "      <td>40.739323</td>\n",
       "      <td>-74.008119</td>\n",
       "      <td>40.750664</td>\n",
       "      <td>-74.001768</td>\n",
       "      <td>member</td>\n",
       "    </tr>\n",
       "    <tr>\n",
       "      <th>999995</th>\n",
       "      <td>4D7A0F3A9B538327</td>\n",
       "      <td>classic_bike</td>\n",
       "      <td>2024-12-06 18:43:51.866</td>\n",
       "      <td>2024-12-06 18:50:29.033</td>\n",
       "      <td>5 Ave &amp; E 30 St</td>\n",
       "      <td>6248.08</td>\n",
       "      <td>10 Ave &amp; W 28 St</td>\n",
       "      <td>6459.04</td>\n",
       "      <td>40.745985</td>\n",
       "      <td>-73.986295</td>\n",
       "      <td>40.750664</td>\n",
       "      <td>-74.001768</td>\n",
       "      <td>member</td>\n",
       "    </tr>\n",
       "    <tr>\n",
       "      <th>999996</th>\n",
       "      <td>93C022D486F87ABC</td>\n",
       "      <td>classic_bike</td>\n",
       "      <td>2024-12-10 10:34:58.071</td>\n",
       "      <td>2024-12-10 10:51:49.151</td>\n",
       "      <td>Lafayette St &amp; Grand St</td>\n",
       "      <td>5422.09</td>\n",
       "      <td>10 Ave &amp; W 28 St</td>\n",
       "      <td>6459.04</td>\n",
       "      <td>40.720280</td>\n",
       "      <td>-73.998790</td>\n",
       "      <td>40.750664</td>\n",
       "      <td>-74.001768</td>\n",
       "      <td>member</td>\n",
       "    </tr>\n",
       "    <tr>\n",
       "      <th>999997</th>\n",
       "      <td>20A11C486859F19B</td>\n",
       "      <td>electric_bike</td>\n",
       "      <td>2024-12-03 14:02:29.375</td>\n",
       "      <td>2024-12-03 14:07:51.452</td>\n",
       "      <td>Lenox Ave &amp; W 117 St</td>\n",
       "      <td>7655.22</td>\n",
       "      <td>W 110 St &amp; Amsterdam Ave</td>\n",
       "      <td>7646.04</td>\n",
       "      <td>40.802557</td>\n",
       "      <td>-73.949078</td>\n",
       "      <td>40.802692</td>\n",
       "      <td>-73.962950</td>\n",
       "      <td>member</td>\n",
       "    </tr>\n",
       "    <tr>\n",
       "      <th>999998</th>\n",
       "      <td>4D27B49621858BF9</td>\n",
       "      <td>electric_bike</td>\n",
       "      <td>2024-12-05 07:03:08.210</td>\n",
       "      <td>2024-12-05 07:06:03.572</td>\n",
       "      <td>Watts St &amp; Greenwich St</td>\n",
       "      <td>5578.02</td>\n",
       "      <td>West St &amp; Chambers St</td>\n",
       "      <td>5329.03</td>\n",
       "      <td>40.724055</td>\n",
       "      <td>-74.009660</td>\n",
       "      <td>40.717548</td>\n",
       "      <td>-74.013221</td>\n",
       "      <td>casual</td>\n",
       "    </tr>\n",
       "    <tr>\n",
       "      <th>999999</th>\n",
       "      <td>AA99DCFF9F464CC0</td>\n",
       "      <td>electric_bike</td>\n",
       "      <td>2024-12-09 08:33:59.397</td>\n",
       "      <td>2024-12-09 08:46:22.344</td>\n",
       "      <td>Washington Ave &amp; E 174 St</td>\n",
       "      <td>8277.03</td>\n",
       "      <td>Courtlandt Ave &amp; E 149 St</td>\n",
       "      <td>7840.05</td>\n",
       "      <td>40.843079</td>\n",
       "      <td>-73.900216</td>\n",
       "      <td>40.816402</td>\n",
       "      <td>-73.919549</td>\n",
       "      <td>member</td>\n",
       "    </tr>\n",
       "  </tbody>\n",
       "</table>\n",
       "</div>"
      ],
      "text/plain": [
       "                 ride_id  rideable_type               started_at  \\\n",
       "999990  7CC1A828C23BC380   classic_bike  2024-12-12 09:37:03.823   \n",
       "999991  71E92C5FF72D8AAE   classic_bike  2024-12-12 06:51:31.858   \n",
       "999992  284CA3F988EC441C  electric_bike  2024-12-09 18:19:48.103   \n",
       "999993  21687933F8277992   classic_bike  2024-12-03 16:30:44.051   \n",
       "999994  7F9F2EB83A791E29  electric_bike  2024-12-10 11:09:55.259   \n",
       "999995  4D7A0F3A9B538327   classic_bike  2024-12-06 18:43:51.866   \n",
       "999996  93C022D486F87ABC   classic_bike  2024-12-10 10:34:58.071   \n",
       "999997  20A11C486859F19B  electric_bike  2024-12-03 14:02:29.375   \n",
       "999998  4D27B49621858BF9  electric_bike  2024-12-05 07:03:08.210   \n",
       "999999  AA99DCFF9F464CC0  electric_bike  2024-12-09 08:33:59.397   \n",
       "\n",
       "                       ended_at             start_station_name  \\\n",
       "999990  2024-12-12 09:42:43.090             E 17 St & Broadway   \n",
       "999991  2024-12-12 06:57:59.346  Washington St & Gansevoort St   \n",
       "999992  2024-12-09 18:29:23.536             E 17 St & Broadway   \n",
       "999993  2024-12-03 16:41:10.112  Washington St & Gansevoort St   \n",
       "999994  2024-12-10 11:13:49.980  Washington St & Gansevoort St   \n",
       "999995  2024-12-06 18:50:29.033                5 Ave & E 30 St   \n",
       "999996  2024-12-10 10:51:49.151        Lafayette St & Grand St   \n",
       "999997  2024-12-03 14:07:51.452           Lenox Ave & W 117 St   \n",
       "999998  2024-12-05 07:06:03.572        Watts St & Greenwich St   \n",
       "999999  2024-12-09 08:46:22.344      Washington Ave & E 174 St   \n",
       "\n",
       "       start_station_id           end_station_name end_station_id  start_lat  \\\n",
       "999990           5980.1            E 31 St & 3 Ave        6239.08  40.737006   \n",
       "999991          6039.06           10 Ave & W 28 St        6459.04  40.739323   \n",
       "999992           5980.1            E 31 St & 3 Ave        6239.08  40.737006   \n",
       "999993          6039.06      West St & Chambers St        5329.03  40.739323   \n",
       "999994          6039.06           10 Ave & W 28 St        6459.04  40.739323   \n",
       "999995          6248.08           10 Ave & W 28 St        6459.04  40.745985   \n",
       "999996          5422.09           10 Ave & W 28 St        6459.04  40.720280   \n",
       "999997          7655.22   W 110 St & Amsterdam Ave        7646.04  40.802557   \n",
       "999998          5578.02      West St & Chambers St        5329.03  40.724055   \n",
       "999999          8277.03  Courtlandt Ave & E 149 St        7840.05  40.843079   \n",
       "\n",
       "        start_lng    end_lat    end_lng member_casual  \n",
       "999990 -73.990134  40.743943 -73.979661        member  \n",
       "999991 -74.008119  40.750664 -74.001768        member  \n",
       "999992 -73.990134  40.743943 -73.979661        casual  \n",
       "999993 -74.008119  40.717548 -74.013221        member  \n",
       "999994 -74.008119  40.750664 -74.001768        member  \n",
       "999995 -73.986295  40.750664 -74.001768        member  \n",
       "999996 -73.998790  40.750664 -74.001768        member  \n",
       "999997 -73.949078  40.802692 -73.962950        member  \n",
       "999998 -74.009660  40.717548 -74.013221        casual  \n",
       "999999 -73.900216  40.816402 -73.919549        member  "
      ]
     },
     "execution_count": 125,
     "metadata": {},
     "output_type": "execute_result"
    }
   ],
   "source": [
    "df.tail(n=10)"
   ]
  },
  {
   "cell_type": "code",
   "execution_count": 127,
   "metadata": {},
   "outputs": [
    {
     "data": {
      "text/html": [
       "<div>\n",
       "<style scoped>\n",
       "    .dataframe tbody tr th:only-of-type {\n",
       "        vertical-align: middle;\n",
       "    }\n",
       "\n",
       "    .dataframe tbody tr th {\n",
       "        vertical-align: top;\n",
       "    }\n",
       "\n",
       "    .dataframe thead th {\n",
       "        text-align: right;\n",
       "    }\n",
       "</style>\n",
       "<table border=\"1\" class=\"dataframe\">\n",
       "  <thead>\n",
       "    <tr style=\"text-align: right;\">\n",
       "      <th></th>\n",
       "      <th>start_lat</th>\n",
       "      <th>start_lng</th>\n",
       "      <th>end_lat</th>\n",
       "      <th>end_lng</th>\n",
       "    </tr>\n",
       "  </thead>\n",
       "  <tbody>\n",
       "    <tr>\n",
       "      <th>count</th>\n",
       "      <td>1000000.000000</td>\n",
       "      <td>1000000.000000</td>\n",
       "      <td>999795.000000</td>\n",
       "      <td>999795.000000</td>\n",
       "    </tr>\n",
       "    <tr>\n",
       "      <th>mean</th>\n",
       "      <td>40.737646</td>\n",
       "      <td>-73.970963</td>\n",
       "      <td>40.737673</td>\n",
       "      <td>-73.970899</td>\n",
       "    </tr>\n",
       "    <tr>\n",
       "      <th>std</th>\n",
       "      <td>0.040257</td>\n",
       "      <td>0.028802</td>\n",
       "      <td>0.081166</td>\n",
       "      <td>0.131326</td>\n",
       "    </tr>\n",
       "    <tr>\n",
       "      <th>min</th>\n",
       "      <td>40.633385</td>\n",
       "      <td>-74.026823</td>\n",
       "      <td>0.000000</td>\n",
       "      <td>-74.071455</td>\n",
       "    </tr>\n",
       "    <tr>\n",
       "      <th>25%</th>\n",
       "      <td>40.713532</td>\n",
       "      <td>-73.991475</td>\n",
       "      <td>40.714211</td>\n",
       "      <td>-73.991449</td>\n",
       "    </tr>\n",
       "    <tr>\n",
       "      <th>50%</th>\n",
       "      <td>40.737815</td>\n",
       "      <td>-73.978985</td>\n",
       "      <td>40.738290</td>\n",
       "      <td>-73.979481</td>\n",
       "    </tr>\n",
       "    <tr>\n",
       "      <th>75%</th>\n",
       "      <td>40.760339</td>\n",
       "      <td>-73.954823</td>\n",
       "      <td>40.760301</td>\n",
       "      <td>-73.954823</td>\n",
       "    </tr>\n",
       "    <tr>\n",
       "      <th>max</th>\n",
       "      <td>40.886300</td>\n",
       "      <td>-73.846720</td>\n",
       "      <td>40.930000</td>\n",
       "      <td>0.000000</td>\n",
       "    </tr>\n",
       "  </tbody>\n",
       "</table>\n",
       "</div>"
      ],
      "text/plain": [
       "            start_lat       start_lng        end_lat        end_lng\n",
       "count  1000000.000000  1000000.000000  999795.000000  999795.000000\n",
       "mean        40.737646      -73.970963      40.737673     -73.970899\n",
       "std          0.040257        0.028802       0.081166       0.131326\n",
       "min         40.633385      -74.026823       0.000000     -74.071455\n",
       "25%         40.713532      -73.991475      40.714211     -73.991449\n",
       "50%         40.737815      -73.978985      40.738290     -73.979481\n",
       "75%         40.760339      -73.954823      40.760301     -73.954823\n",
       "max         40.886300      -73.846720      40.930000       0.000000"
      ]
     },
     "execution_count": 127,
     "metadata": {},
     "output_type": "execute_result"
    }
   ],
   "source": [
    "df.describe() # Attention! Some methods do not always make sense!"
   ]
  },
  {
   "cell_type": "code",
   "execution_count": 129,
   "metadata": {},
   "outputs": [
    {
     "data": {
      "text/plain": [
       "ride_id                                 B44E5B10AEE58AD0\n",
       "rideable_type                               classic_bike\n",
       "started_at                       2024-12-14 10:58:18.153\n",
       "ended_at                         2024-12-14 11:11:11.308\n",
       "start_station_name    Frederick Douglass Blvd & W 145 St\n",
       "start_station_id                                 7954.12\n",
       "end_station_name                        E 138 St & 5 Ave\n",
       "end_station_id                                   7809.13\n",
       "start_lat                                      40.823061\n",
       "start_lng                                     -73.941928\n",
       "end_lat                                         40.81449\n",
       "end_lng                                       -73.936153\n",
       "member_casual                                     member\n",
       "Name: 0, dtype: object"
      ]
     },
     "execution_count": 129,
     "metadata": {},
     "output_type": "execute_result"
    }
   ],
   "source": [
    "df.loc[0]"
   ]
  },
  {
   "cell_type": "code",
   "execution_count": 131,
   "metadata": {},
   "outputs": [
    {
     "data": {
      "text/plain": [
       "ride_id                                 B44E5B10AEE58AD0\n",
       "rideable_type                               classic_bike\n",
       "started_at                       2024-12-14 10:58:18.153\n",
       "ended_at                         2024-12-14 11:11:11.308\n",
       "start_station_name    Frederick Douglass Blvd & W 145 St\n",
       "start_station_id                                 7954.12\n",
       "end_station_name                        E 138 St & 5 Ave\n",
       "end_station_id                                   7809.13\n",
       "start_lat                                      40.823061\n",
       "start_lng                                     -73.941928\n",
       "end_lat                                         40.81449\n",
       "end_lng                                       -73.936153\n",
       "member_casual                                     member\n",
       "Name: 0, dtype: object"
      ]
     },
     "execution_count": 131,
     "metadata": {},
     "output_type": "execute_result"
    }
   ],
   "source": [
    "df.iloc[0]"
   ]
  },
  {
   "cell_type": "code",
   "execution_count": 133,
   "metadata": {},
   "outputs": [
    {
     "data": {
      "text/plain": [
       "0         member\n",
       "1         member\n",
       "2         member\n",
       "3         member\n",
       "4         member\n",
       "           ...  \n",
       "999995    member\n",
       "999996    member\n",
       "999997    member\n",
       "999998    casual\n",
       "999999    member\n",
       "Name: member_casual, Length: 1000000, dtype: object"
      ]
     },
     "execution_count": 133,
     "metadata": {},
     "output_type": "execute_result"
    }
   ],
   "source": [
    "df.member_casual"
   ]
  },
  {
   "cell_type": "code",
   "execution_count": 135,
   "metadata": {},
   "outputs": [
    {
     "data": {
      "text/html": [
       "<div>\n",
       "<style scoped>\n",
       "    .dataframe tbody tr th:only-of-type {\n",
       "        vertical-align: middle;\n",
       "    }\n",
       "\n",
       "    .dataframe tbody tr th {\n",
       "        vertical-align: top;\n",
       "    }\n",
       "\n",
       "    .dataframe thead th {\n",
       "        text-align: right;\n",
       "    }\n",
       "</style>\n",
       "<table border=\"1\" class=\"dataframe\">\n",
       "  <thead>\n",
       "    <tr style=\"text-align: right;\">\n",
       "      <th></th>\n",
       "      <th>ride_id</th>\n",
       "      <th>rideable_type</th>\n",
       "      <th>started_at</th>\n",
       "      <th>ended_at</th>\n",
       "      <th>start_station_name</th>\n",
       "      <th>start_station_id</th>\n",
       "      <th>end_station_name</th>\n",
       "      <th>end_station_id</th>\n",
       "      <th>start_lat</th>\n",
       "      <th>start_lng</th>\n",
       "      <th>end_lat</th>\n",
       "      <th>end_lng</th>\n",
       "      <th>member_casual</th>\n",
       "    </tr>\n",
       "  </thead>\n",
       "  <tbody>\n",
       "    <tr>\n",
       "      <th>415342</th>\n",
       "      <td>05474750E89F3978</td>\n",
       "      <td>classic_bike</td>\n",
       "      <td>2024-11-30 08:38:12.374</td>\n",
       "      <td>2024-12-01 09:38:06.894</td>\n",
       "      <td>43 Ave &amp; 47 St</td>\n",
       "      <td>6209.05</td>\n",
       "      <td>NaN</td>\n",
       "      <td>NaN</td>\n",
       "      <td>40.744806</td>\n",
       "      <td>-73.91729</td>\n",
       "      <td>NaN</td>\n",
       "      <td>NaN</td>\n",
       "      <td>casual</td>\n",
       "    </tr>\n",
       "  </tbody>\n",
       "</table>\n",
       "</div>"
      ],
      "text/plain": [
       "                 ride_id rideable_type               started_at  \\\n",
       "415342  05474750E89F3978  classic_bike  2024-11-30 08:38:12.374   \n",
       "\n",
       "                       ended_at start_station_name start_station_id  \\\n",
       "415342  2024-12-01 09:38:06.894     43 Ave & 47 St          6209.05   \n",
       "\n",
       "       end_station_name end_station_id  start_lat  start_lng  end_lat  \\\n",
       "415342              NaN            NaN  40.744806  -73.91729      NaN   \n",
       "\n",
       "        end_lng member_casual  \n",
       "415342      NaN        casual  "
      ]
     },
     "execution_count": 135,
     "metadata": {},
     "output_type": "execute_result"
    }
   ],
   "source": [
    "df.sort_values(by='started_at').head(n=1)"
   ]
  },
  {
   "cell_type": "markdown",
   "metadata": {},
   "source": [
    "## Lab assignments"
   ]
  },
  {
   "cell_type": "markdown",
   "metadata": {},
   "source": [
    "### Comma Code\n",
    "\n",
    "**Source:** https://automatetheboringstuff.com/2e/chapter4/\n",
    "\n",
    "Say you have a list value like this:\n",
    "\n",
    "```\n",
    "spam = ['apples', 'bananas', 'tofu', 'cats']\n",
    "``` \n",
    "\n",
    "Write a function that takes a list value as an argument and returns a string with all the items separated by a comma and a space, with and inserted before the last item. For example, passing the previous spam list to the function would return 'apples, bananas, tofu, and cats'. But your function should be able to work with any list value passed to it. Be sure to test the case where an empty list [] is passed to your function."
   ]
  },
  {
   "cell_type": "code",
   "execution_count": 140,
   "metadata": {},
   "outputs": [
    {
     "name": "stdout",
     "output_type": "stream",
     "text": [
      "apples, bananas, tofu, and cats\n",
      "\n",
      "apples\n",
      "apples, and tofu\n"
     ]
    }
   ],
   "source": [
    "def comma_code(items):\n",
    "    \"\"\"\n",
    "    Converts a list into a string where items are separated by commas,\n",
    "    with 'and' before the last item.\n",
    "    \"\"\"\n",
    "    if not items:  # Handle empty list\n",
    "        return ''\n",
    "    elif len(items) == 1:  # Handle single item\n",
    "        return items[0]\n",
    "    else:\n",
    "        return ', '.join(items[:-1]) + ', and ' + items[-1]\n",
    "\n",
    "# Example usage\n",
    "spam = ['apples', 'bananas', 'tofu', 'cats']\n",
    "print(comma_code(spam))  # Expected output: \"apples, bananas, tofu, and cats\"\n",
    "\n",
    "# Test cases\n",
    "print(comma_code([]))                # Expected output: \"\"\n",
    "print(comma_code(['apples']))        # Expected output: \"apples\"\n",
    "print(comma_code(['apples', 'tofu'])) # Expected output: \"apples and tofu\"\n"
   ]
  },
  {
   "cell_type": "markdown",
   "metadata": {},
   "source": [
    "### Coin Flip Streaks\n",
    "\n",
    "**Source:** https://automatetheboringstuff.com/2e/chapter4/\n",
    "\n",
    "For this exercise, we’ll try doing an experiment. If you flip a coin 100 times and write down an “H” for each heads and “T” for each tails, you’ll create a list that looks like “T T T T H H H H T T.” If you ask a human to make up 100 random coin flips, you’ll probably end up with alternating head-tail results like “H T H T H H T H T T,” which looks random (to humans), but isn’t mathematically random. A human will almost never write down a streak of six heads or six tails in a row, even though it is highly likely to happen in truly random coin flips. Humans are predictably bad at being random.\n",
    "\n",
    "Write a program to find out how often a streak of six heads or a streak of six tails comes up in a randomly generated list of heads and tails. Your program breaks up the experiment into two parts: the first part generates a list of randomly selected 'heads' and 'tails' values, and the second part checks if there is a streak in it. Put all of this code in a loop that repeats the experiment 10,000 times so we can find out what percentage of the coin flips contains a streak of six heads or tails in a row. As a hint, the function call random.randint(0, 1) will return a 0 value 50% of the time and a 1 value the other 50% of the time.\n",
    "\n",
    "You can start with the following template:"
   ]
  },
  {
   "cell_type": "code",
   "execution_count": 144,
   "metadata": {},
   "outputs": [
    {
     "name": "stdout",
     "output_type": "stream",
     "text": [
      "Chance of streak: 80.31%\n"
     ]
    }
   ],
   "source": [
    "import random\n",
    "\n",
    "# Number of experiments\n",
    "numberOfStreaks = 0\n",
    "\n",
    "# Perform 10,000 experiments\n",
    "for experimentNumber in range(10000):\n",
    "    # Generate a list of 100 random 'H' or 'T' values\n",
    "    flips = [random.choice(['H', 'T']) for _ in range(100)]\n",
    "    \n",
    "    # Check for streaks of 6 or more\n",
    "    streak = 1  # Initialize streak counter\n",
    "    for i in range(1, len(flips)):\n",
    "        if flips[i] == flips[i - 1]:\n",
    "            streak += 1\n",
    "            if streak == 6:  # A streak of 6 is found\n",
    "                numberOfStreaks += 1\n",
    "                break  # No need to check further in this experiment\n",
    "        else:\n",
    "            streak = 1  # Reset streak counter\n",
    "\n",
    "# Calculate the percentage of streaks\n",
    "chanceOfStreak = (numberOfStreaks / 10000) * 100\n",
    "print(f'Chance of streak: {chanceOfStreak:.2f}%')\n"
   ]
  },
  {
   "cell_type": "markdown",
   "metadata": {},
   "source": [
    "### Back to the dungeon!\n",
    "\n",
    "Remember [bashcrawl]() from the second lab exercise? Now we are going back the \"dungeon setting\" but **this time you will actually implement parts of the game!**\n",
    "\n",
    "#### Fantasy Game Inventory\n",
    "\n",
    "**Source:** https://automatetheboringstuff.com/2e/chapter5/\n",
    "\n",
    "You are creating a fantasy video game. The data structure to model the player’s inventory will be a dictionary where the keys are string values describing the item in the inventory and the value is an integer value detailing how many of that item the player has. For example, the dictionary value {'rope': 1, 'torch': 6, 'gold coin': 42, 'dagger': 1, 'arrow': 12} means the player has 1 rope, 6 torches, 42 gold coins, and so on.\n",
    "\n",
    "Write a function named displayInventory() that would take any possible “inventory” and display it like the following:\n",
    "\n",
    "```\n",
    "Inventory:\n",
    "12 arrow\n",
    "42 gold coin\n",
    "1 rope\n",
    "6 torch\n",
    "1 dagger\n",
    "Total number of items: 62\n",
    "``` \n",
    "**Hint:** You can use a for loop to loop through all the keys in a dictionary.\n",
    "\n",
    "You can start with the following template:"
   ]
  },
  {
   "cell_type": "code",
   "execution_count": 147,
   "metadata": {},
   "outputs": [
    {
     "name": "stdout",
     "output_type": "stream",
     "text": [
      "Inventory:\n",
      "1 rope\n",
      "6 torch\n",
      "42 gold coin\n",
      "1 dagger\n",
      "12 arrow\n",
      "Total number of items: 62\n"
     ]
    }
   ],
   "source": [
    "stuff = {'rope': 1, 'torch': 6, 'gold coin': 42, 'dagger': 1, 'arrow': 12}\n",
    "\n",
    "def displayInventory(inventory):\n",
    "    print(\"Inventory:\")\n",
    "    item_total = 0\n",
    "    for item, count in inventory.items():\n",
    "        print(f\"{count} {item}\")\n",
    "        item_total += count\n",
    "    print(\"Total number of items: \" + str(item_total))\n",
    "\n",
    "displayInventory(stuff)\n"
   ]
  },
  {
   "cell_type": "markdown",
   "metadata": {},
   "source": [
    "#### List to Dictionary Function for Fantasy Game \n",
    "\n",
    "**Source:** https://automatetheboringstuff.com/2e/chapter5/\n",
    "\n",
    "Imagine that a vanquished dragon’s loot is represented as a list of strings like this:\n",
    "\n",
    "```\n",
    "dragonLoot = ['gold coin', 'dagger', 'gold coin', 'gold coin', 'ruby']\n",
    "```\n",
    "\n",
    "Write a function named addToInventory(inventory, addedItems), where the inventory parameter is a dictionary representing the player’s inventory (like in the previous project) and the addedItems parameter is a list like dragonLoot. The addToInventory() function should return a dictionary that represents the updated inventory. Note that the addedItems list can contain multiples of the same item. \n",
    "\n",
    "The previous program (with your displayInventory() function from the previous project) would output the following:\n",
    "\n",
    "```\n",
    "Inventory:\n",
    "45 gold coin\n",
    "1 rope\n",
    "1 ruby\n",
    "1 dagger\n",
    "\n",
    "Total number of items: 48\n",
    "```\n",
    "\n",
    "Your code could look something like this:\n"
   ]
  },
  {
   "cell_type": "code",
   "execution_count": 149,
   "metadata": {},
   "outputs": [
    {
     "name": "stdout",
     "output_type": "stream",
     "text": [
      "Inventory:\n",
      "45 gold coin\n",
      "1 rope\n",
      "1 dagger\n",
      "1 ruby\n",
      "Total number of items: 48\n"
     ]
    }
   ],
   "source": [
    "def addToInventory(inventory, addedItems):\n",
    "    for item in addedItems:\n",
    "        if item in inventory:\n",
    "            inventory[item] += 1\n",
    "        else:\n",
    "            inventory[item] = 1\n",
    "    return inventory\n",
    "\n",
    "def displayInventory(inventory):\n",
    "    print(\"Inventory:\")\n",
    "    item_total = 0\n",
    "    for item, count in inventory.items():\n",
    "        print(f\"{count} {item}\")\n",
    "        item_total += count\n",
    "    print(\"Total number of items: \" + str(item_total))\n",
    "\n",
    "# Existing inventory and dragon's loot\n",
    "inv = {'gold coin': 42, 'rope': 1}\n",
    "dragonLoot = ['gold coin', 'dagger', 'gold coin', 'gold coin', 'ruby']\n",
    "\n",
    "# Update inventory with dragon's loot\n",
    "inv = addToInventory(inv, dragonLoot)\n",
    "\n",
    "# Display the updated inventory\n",
    "displayInventory(inv)\n"
   ]
  },
  {
   "cell_type": "code",
   "execution_count": null,
   "metadata": {},
   "outputs": [],
   "source": []
  }
 ],
 "metadata": {
  "kernelspec": {
   "display_name": "Python 3 (ipykernel)",
   "language": "python",
   "name": "python3"
  },
  "language_info": {
   "codemirror_mode": {
    "name": "ipython",
    "version": 3
   },
   "file_extension": ".py",
   "mimetype": "text/x-python",
   "name": "python",
   "nbconvert_exporter": "python",
   "pygments_lexer": "ipython3",
   "version": "3.12.4"
  }
 },
 "nbformat": 4,
 "nbformat_minor": 4
}
