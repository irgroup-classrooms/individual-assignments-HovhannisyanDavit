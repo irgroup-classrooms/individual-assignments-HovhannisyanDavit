{
 "cells": [
  {
   "cell_type": "code",
   "execution_count": 81,
   "id": "c7c97eb3-f175-40b3-894b-75193137aa3f",
   "metadata": {},
   "outputs": [
    {
     "name": "stdout",
     "output_type": "stream",
     "text": [
      "['12345', '899', '99', '2023', '09', '15', '12346', '199', '23', '2023', '09', '16', '12347', '699', '99', '2023', '09', '17', '12348', '299', '99', '2023', '09', '18', '12349', '49', '99', '2023', '09', '19', '12350', '29', '99', '2023', '09', '20', '12351', '499', '49', '2023', '09', '21', '12352', '999', '99', '2023', '09', '22', '12353', '549', '29', '2023', '09', '23', '12354', '249', '57', '2023', '09', '24']\n"
     ]
    }
   ],
   "source": [
    "import re \n",
    "\n",
    "\n",
    "def main():\n",
    "    \n",
    "    # Read the CSV file with the product orders\n",
    "    with open(r\"C:\\Users\\user\\Desktop\\TH KÖLN\\Semester 5\\Daten Modellierung\\orders.csv\") as f_in:\n",
    "        text = f_in.read()\n",
    "\n",
    "    # Define the regular expression to extract all order numbers\n",
    "    regex = r'\\d+'\n",
    "\n",
    "    # Match the regex with the text\n",
    "    orders = re.findall(regex, text)\n",
    "\n",
    "    # Print the results\n",
    "    print(orders)\n",
    "    \n",
    "\n",
    "if __name__ == '__main__':\n",
    "    main()"
   ]
  },
  {
   "cell_type": "code",
   "execution_count": 7,
   "id": "91e4a274-d411-4012-935a-ca6ba663df12",
   "metadata": {},
   "outputs": [],
   "source": [
    "with open(r\"C:\\Users\\user\\Desktop\\TH KÖLN\\Semester 5\\Daten Modellierung\\orders.csv\") as f_in:\n",
    "    text = f_in.read()\n",
    "\n"
   ]
  },
  {
   "cell_type": "code",
   "execution_count": 83,
   "id": "04040e67-ea43-46ea-81d2-61bacdb2e823",
   "metadata": {},
   "outputs": [
    {
     "name": "stdout",
     "output_type": "stream",
     "text": [
      "Order Numbers: ['12345', '12346', '12347', '12348', '12349', '12350', '12351', '12352', '12353', '12354']\n"
     ]
    }
   ],
   "source": [
    "# 1.Define a regex pattern for order numbers (assuming they are 5-digit numbers)\n",
    "order_numbers = re.findall(r'\\b\\d{5}\\b', text)\n",
    "print(\"Order Numbers:\", order_numbers)\n"
   ]
  },
  {
   "cell_type": "code",
   "execution_count": 85,
   "id": "e60654fc-7070-443c-8f9d-d5851cacf63a",
   "metadata": {},
   "outputs": [
    {
     "name": "stdout",
     "output_type": "stream",
     "text": [
      "Order #12345: Product: Laptop, Price: $899.99, Date: 2023-09-15\n",
      "Order #12346: Product: Headphones, Price: $199.23, Date: 2023-09-16\n",
      "Order #12347: Product: Smartphone, Price: $699.99, Date: 2023-09-17\n",
      "\n"
     ]
    }
   ],
   "source": [
    "print(text[:200])  # Prints the first 200 characters of the CSV file\n"
   ]
  },
  {
   "cell_type": "code",
   "execution_count": 87,
   "id": "1abcafab-d608-4fa1-986e-b60bc01f5b50",
   "metadata": {},
   "outputs": [
    {
     "name": "stdout",
     "output_type": "stream",
     "text": [
      "Product Names: ['Order', 'Product', 'Laptop', 'Price', 'Date', '\\nOrder', 'Product', 'Headphones', 'Price', 'Date', '\\nOrder', 'Product', 'Smartphone', 'Price', 'Date', '\\nOrder', 'Product', 'Monitor', 'Price', 'Date', '\\nOrder', 'Product', 'Keyboard', 'Price', 'Date', '\\nOrder', 'Product', 'Mouse', 'Price', 'Date', '\\nOrder', 'Product', 'Tablet', 'Price', 'Date', '\\nOrder', 'Product', 'Laptop', 'Price', 'Date', '\\nOrder', 'Product', 'Camera', 'Price', 'Date', '\\nOrder', 'Product', 'Headphones', 'Price', 'Date']\n"
     ]
    }
   ],
   "source": [
    "# 2. Extract product names (assuming they are words following an order number and price)\n",
    "product_names = re.findall(r'\\b[A-Za-z\\s]+\\b', text)  # Match words (product names)\n",
    "print(\"Product Names:\", product_names)\n",
    "\n"
   ]
  },
  {
   "cell_type": "code",
   "execution_count": 89,
   "id": "b928d901-4b11-4a63-a637-91ecf146d8af",
   "metadata": {},
   "outputs": [
    {
     "name": "stdout",
     "output_type": "stream",
     "text": [
      "Prices: ['899.99', '199.23', '699.99', '299.99', '49.99', '29.99', '499.49', '999.99', '549.29', '249.57']\n"
     ]
    }
   ],
   "source": [
    "# 3.Extract all prices:\n",
    "def extract_prices(text):\n",
    "    # Regex pattern to match prices like 99.99\n",
    "    return re.findall(r'\\d+\\.\\d{2}', text)  # Matches prices in the format of 2 decimal places\n",
    "\n",
    "prices = extract_prices(text)\n",
    "print(\"Prices:\", prices)\n"
   ]
  },
  {
   "cell_type": "code",
   "execution_count": 91,
   "id": "6e247431-e8d1-48fa-8b86-451001eac4f3",
   "metadata": {},
   "outputs": [
    {
     "name": "stdout",
     "output_type": "stream",
     "text": [
      "Order Dates: ['2023-09-15', '2023-09-16', '2023-09-17', '2023-09-18', '2023-09-19', '2023-09-20', '2023-09-21', '2023-09-22', '2023-09-23', '2023-09-24']\n"
     ]
    }
   ],
   "source": [
    "# 4. Extract all order dates\n",
    "def extract_order_dates(text):\n",
    "    # Regex pattern to extract dates in the format YYYY-MM-DD\n",
    "    return re.findall(r'\\d{4}-\\d{2}-\\d{2}', text)\n",
    "\n",
    "order_dates = extract_order_dates(text)\n",
    "print(\"Order Dates:\", order_dates)"
   ]
  },
  {
   "cell_type": "code",
   "execution_count": 93,
   "id": "cee63d1b-afea-4177-a695-5b9e81ccd929",
   "metadata": {},
   "outputs": [
    {
     "name": "stdout",
     "output_type": "stream",
     "text": [
      "Orders over $500: [('Order', 899.99), ('Laptop', 699.99), ('Headphones', 999.99), ('Price', 549.29)]\n"
     ]
    }
   ],
   "source": [
    "# 5. Find all orders for products priced over $500\n",
    "prices_float = [float(price) for price in prices]  # Convert prices to floats\n",
    "orders_above_500 = [\n",
    "    (product, price) for product, price in zip(product_names, prices_float) if price > 500\n",
    "]\n",
    "print(\"Orders over $500:\", orders_above_500)"
   ]
  },
  {
   "cell_type": "code",
   "execution_count": 63,
   "id": "ea1cf797-faac-43ac-ba23-3e82c2cd0793",
   "metadata": {},
   "outputs": [
    {
     "name": "stdout",
     "output_type": "stream",
     "text": [
      "Formatted Dates (DD/MM/YYYY): ['09/15/2023', '09/16/2023', '09/17/2023', '09/18/2023', '09/19/2023', '09/20/2023', '09/21/2023', '09/22/2023', '09/23/2023', '09/24/2023']\n"
     ]
    }
   ],
   "source": [
    "# 6. Change the date format to DD/MM/YYYY\n",
    "def change_date_format(dates):\n",
    "    return [re.sub(r'(\\d{4})-(\\d{2})-(\\d{2})', r'\\2/\\3/\\1', date) for date in dates]\n",
    "\n",
    "formatted_dates = change_date_format(order_dates)\n",
    "print(\"Formatted Dates (DD/MM/YYYY):\", formatted_dates)"
   ]
  },
  {
   "cell_type": "code",
   "execution_count": 95,
   "id": "4cc16eba-caa1-42d6-804e-3eaa871d58d0",
   "metadata": {},
   "outputs": [
    {
     "name": "stdout",
     "output_type": "stream",
     "text": [
      "Product Names with more than 6 characters: ['Product', 'Product', 'Headphones', 'Product', 'Smartphone', 'Product', 'Monitor', 'Product', 'Keyboard', 'Product', 'Product', 'Product', 'Product', 'Product', 'Headphones']\n"
     ]
    }
   ],
   "source": [
    "# 7. Extract product names that have more than 6 characters\n",
    "products_over_6 = [product for product in product_names if len(product.replace(\" \", \"\")) > 6]\n",
    "print(\"Product Names with more than 6 characters:\", products_over_6)\n"
   ]
  },
  {
   "cell_type": "code",
   "execution_count": 97,
   "id": "2c29738f-7950-4461-9833-4685298b9654",
   "metadata": {},
   "outputs": [
    {
     "name": "stdout",
     "output_type": "stream",
     "text": [
      "Product Occurrences: Counter({'Product': 10, 'Price': 10, 'Date': 10, '\\nOrder': 9, 'Laptop': 2, 'Headphones': 2, 'Order': 1, 'Smartphone': 1, 'Monitor': 1, 'Keyboard': 1, 'Mouse': 1, 'Tablet': 1, 'Camera': 1})\n"
     ]
    }
   ],
   "source": [
    "# 8. Count the occurrence of each product\n",
    "product_counts = Counter(product_names)\n",
    "print(\"Product Occurrences:\", product_counts)"
   ]
  },
  {
   "cell_type": "code",
   "execution_count": 99,
   "id": "b14df668-533b-4697-8f03-3e3ddd896e04",
   "metadata": {},
   "outputs": [
    {
     "name": "stdout",
     "output_type": "stream",
     "text": [
      "Orders with prices ending in .99: ['Order', 'Laptop', 'Price', 'Date', '\\nOrder', 'Headphones']\n"
     ]
    }
   ],
   "source": [
    "# 9. Extract the orders with prices ending in .99\n",
    "orders_ending_in_99 = [product for product, price in zip(product_names, prices) if price.endswith(\".99\")]\n",
    "print(\"Orders with prices ending in .99:\", orders_ending_in_99)\n"
   ]
  },
  {
   "cell_type": "code",
   "execution_count": 101,
   "id": "da3d8ac0-1d5b-4536-9a4b-543616b6ca75",
   "metadata": {},
   "outputs": [
    {
     "name": "stdout",
     "output_type": "stream",
     "text": [
      "Cheapest product: \n",
      "Order at $29.99\n"
     ]
    }
   ],
   "source": [
    "# 10. Find the cheapest product\n",
    "def find_cheapest_product(prices, product_names):\n",
    "    # Convert prices to floats and use the min function to find the minimum price\n",
    "    prices_float = [float(price) for price in prices]\n",
    "    min_price = min(prices_float)  # Get the lowest price\n",
    "    min_index = prices_float.index(min_price)  # Find the index of the cheapest price\n",
    "    return product_names[min_index], min_price  # Return the product name and price\n",
    "\n",
    "cheapest_product, cheapest_price = find_cheapest_product(prices, product_names)\n",
    "print(f\"Cheapest product: {cheapest_product} at ${cheapest_price}\")\n",
    "\n",
    "\n"
   ]
  },
  {
   "cell_type": "code",
   "execution_count": null,
   "id": "e354eee5-e73f-4cbe-aee5-8f8d2f4beef0",
   "metadata": {},
   "outputs": [],
   "source": []
  }
 ],
 "metadata": {
  "kernelspec": {
   "display_name": "Python 3 (ipykernel)",
   "language": "python",
   "name": "python3"
  },
  "language_info": {
   "codemirror_mode": {
    "name": "ipython",
    "version": 3
   },
   "file_extension": ".py",
   "mimetype": "text/x-python",
   "name": "python",
   "nbconvert_exporter": "python",
   "pygments_lexer": "ipython3",
   "version": "3.12.4"
  }
 },
 "nbformat": 4,
 "nbformat_minor": 5
}
